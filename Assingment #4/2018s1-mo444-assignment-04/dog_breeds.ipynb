{
  "nbformat": 4,
  "nbformat_minor": 0,
  "metadata": {
    "colab": {
      "name": "dog_breeds",
      "version": "0.3.2",
      "views": {},
      "default_view": {},
      "provenance": [],
      "collapsed_sections": [
        "YfviLD55wR4X",
        "t-oSSIJ3_vAu"
      ]
    },
    "kernelspec": {
      "name": "python3",
      "display_name": "Python 3"
    },
    "accelerator": "GPU"
  },
  "cells": [
    {
      "metadata": {
        "id": "FozvfSQ6wdqG",
        "colab_type": "text"
      },
      "cell_type": "markdown",
      "source": [
        "# Importing Libraries"
      ]
    },
    {
      "metadata": {
        "id": "g7E7afbvwboU",
        "colab_type": "code",
        "colab": {
          "autoexec": {
            "startup": false,
            "wait_interval": 0
          }
        }
      },
      "cell_type": "code",
      "source": [
        "import numpy as np\n",
        "from keras import models\n",
        "from keras import layers\n",
        "from keras import optimizers\n",
        "from keras.applications import InceptionResNetV2\n",
        "from keras.preprocessing.image import ImageDataGenerator\n",
        "\n",
        "from matplotlib.pyplot import imshow\n",
        "%matplotlib inline"
      ],
      "execution_count": 0,
      "outputs": []
    },
    {
      "metadata": {
        "id": "YfviLD55wR4X",
        "colab_type": "text"
      },
      "cell_type": "markdown",
      "source": [
        "# Download Dataset"
      ]
    },
    {
      "metadata": {
        "id": "biczdZY9T6Nv",
        "colab_type": "code",
        "colab": {
          "autoexec": {
            "startup": false,
            "wait_interval": 0
          },
          "base_uri": "https://localhost:8080/",
          "height": 235
        },
        "outputId": "843293d1-3c68-4c63-9e6d-8d11f5bb728d",
        "executionInfo": {
          "status": "ok",
          "timestamp": 1527202786926,
          "user_tz": 180,
          "elapsed": 59058,
          "user": {
            "displayName": "Osvaldo Xavier",
            "photoUrl": "//lh3.googleusercontent.com/-zybdqkQ08DI/AAAAAAAAAAI/AAAAAAAAAwA/gvGq15lUM1o/s50-c-k-no/photo.jpg",
            "userId": "109704789053915160529"
          }
        }
      },
      "cell_type": "code",
      "source": [
        "!wget http://www.recod.ic.unicamp.br/~feandalo/MO444_dogs.tar.gz"
      ],
      "execution_count": 3,
      "outputs": [
        {
          "output_type": "stream",
          "text": [
            "--2018-05-24 22:58:49--  http://www.recod.ic.unicamp.br/~feandalo/MO444_dogs.tar.gz\n",
            "Resolving www.recod.ic.unicamp.br (www.recod.ic.unicamp.br)... 143.106.7.151\n",
            "Connecting to www.recod.ic.unicamp.br (www.recod.ic.unicamp.br)|143.106.7.151|:80... connected.\n",
            "HTTP request sent, awaiting response... 200 OK\n",
            "Length: 1260424819 (1.2G) [application/x-gzip]\n",
            "Saving to: ‘MO444_dogs.tar.gz’\n",
            "\n",
            "MO444_dogs.tar.gz    84%[===============>    ]   1010M  24.2MB/s    eta 10s    "
          ],
          "name": "stdout"
        },
        {
          "output_type": "stream",
          "text": [
            "MO444_dogs.tar.gz   100%[===================>]   1.17G  24.3MB/s    in 57s     \n",
            "\n",
            "2018-05-24 22:59:46 (21.1 MB/s) - ‘MO444_dogs.tar.gz’ saved [1260424819/1260424819]\n",
            "\n"
          ],
          "name": "stdout"
        }
      ]
    },
    {
      "metadata": {
        "id": "g4M4n_T3xxFm",
        "colab_type": "code",
        "colab": {
          "autoexec": {
            "startup": false,
            "wait_interval": 0
          }
        }
      },
      "cell_type": "code",
      "source": [
        "# Extracting file\n",
        "!apt-get install p7zip-full\n",
        "!7z e MO444_dogs.tar.gz\n",
        "!tar -xvf MO444_dogs.tar"
      ],
      "execution_count": 0,
      "outputs": []
    },
    {
      "metadata": {
        "id": "JlyR2mdnwjUu",
        "colab_type": "text"
      },
      "cell_type": "markdown",
      "source": [
        "# Importing Dataset From Google Drive"
      ]
    },
    {
      "metadata": {
        "id": "9D5i5ddETCEX",
        "colab_type": "code",
        "colab": {
          "autoexec": {
            "startup": false,
            "wait_interval": 0
          },
          "base_uri": "https://localhost:8080/",
          "height": 361
        },
        "outputId": "ecba98fd-9f69-49de-8c63-df6acfa3e39c",
        "executionInfo": {
          "status": "ok",
          "timestamp": 1527456509741,
          "user_tz": 180,
          "elapsed": 4293,
          "user": {
            "displayName": "Osvaldo Xavier",
            "photoUrl": "//lh3.googleusercontent.com/-zybdqkQ08DI/AAAAAAAAAAI/AAAAAAAAAwA/gvGq15lUM1o/s50-c-k-no/photo.jpg",
            "userId": "109704789053915160529"
          }
        }
      },
      "cell_type": "code",
      "source": [
        "# Installing PyDrive\n",
        "!pip install PyDrive"
      ],
      "execution_count": 2,
      "outputs": [
        {
          "output_type": "stream",
          "text": [
            "Collecting PyDrive\n",
            "\u001b[?25l  Downloading https://files.pythonhosted.org/packages/52/e0/0e64788e5dd58ce2d6934549676243dc69d982f198524be9b99e9c2a4fd5/PyDrive-1.3.1.tar.gz (987kB)\n",
            "\u001b[K    100% |████████████████████████████████| 993kB 12.4MB/s \n",
            "\u001b[?25hRequirement already satisfied: google-api-python-client>=1.2 in /usr/local/lib/python3.6/dist-packages (from PyDrive) (1.6.7)\n",
            "Requirement already satisfied: oauth2client>=4.0.0 in /usr/local/lib/python3.6/dist-packages (from PyDrive) (4.1.2)\n",
            "Requirement already satisfied: PyYAML>=3.0 in /usr/local/lib/python3.6/dist-packages (from PyDrive) (3.12)\n",
            "Requirement already satisfied: six<2dev,>=1.6.1 in /usr/local/lib/python3.6/dist-packages (from google-api-python-client>=1.2->PyDrive) (1.11.0)\n",
            "Requirement already satisfied: httplib2<1dev,>=0.9.2 in /usr/local/lib/python3.6/dist-packages (from google-api-python-client>=1.2->PyDrive) (0.11.3)\n",
            "Requirement already satisfied: uritemplate<4dev,>=3.0.0 in /usr/local/lib/python3.6/dist-packages (from google-api-python-client>=1.2->PyDrive) (3.0.0)\n",
            "Requirement already satisfied: rsa>=3.1.4 in /usr/local/lib/python3.6/dist-packages (from oauth2client>=4.0.0->PyDrive) (3.4.2)\n",
            "Requirement already satisfied: pyasn1>=0.1.7 in /usr/local/lib/python3.6/dist-packages (from oauth2client>=4.0.0->PyDrive) (0.4.2)\n",
            "Requirement already satisfied: pyasn1-modules>=0.0.5 in /usr/local/lib/python3.6/dist-packages (from oauth2client>=4.0.0->PyDrive) (0.2.1)\n",
            "Building wheels for collected packages: PyDrive\n",
            "  Running setup.py bdist_wheel for PyDrive ... \u001b[?25l-\b \b\\\b \bdone\n",
            "\u001b[?25h  Stored in directory: /content/.cache/pip/wheels/fa/d2/9a/d3b6b506c2da98289e5d417215ce34b696db856643bad779f4\n",
            "Successfully built PyDrive\n",
            "Installing collected packages: PyDrive\n",
            "Successfully installed PyDrive-1.3.1\n"
          ],
          "name": "stdout"
        }
      ]
    },
    {
      "metadata": {
        "id": "TISarguGwyHc",
        "colab_type": "code",
        "colab": {
          "autoexec": {
            "startup": false,
            "wait_interval": 0
          }
        }
      },
      "cell_type": "code",
      "source": [
        "# Authenticating user\n",
        "from pydrive.auth import GoogleAuth\n",
        "from pydrive.drive import GoogleDrive\n",
        "from google.colab import auth\n",
        "from oauth2client.client import GoogleCredentials\n",
        "\n",
        "auth.authenticate_user()\n",
        "gauth = GoogleAuth()\n",
        "gauth.credentials = GoogleCredentials.get_application_default()\n",
        "drive = GoogleDrive(gauth)"
      ],
      "execution_count": 0,
      "outputs": []
    },
    {
      "metadata": {
        "id": "xXira2AZsXSk",
        "colab_type": "code",
        "colab": {
          "autoexec": {
            "startup": false,
            "wait_interval": 0
          }
        }
      },
      "cell_type": "code",
      "source": [
        "# Verify list of google drive's IDs\n",
        "file_list = drive.ListFile({'q': \"'root' in parents and trashed=false\"}).GetList()\n",
        "for file1 in file_list:\n",
        "  if file1['title'] == 'dogbreed.zip':\n",
        "    ID = file1['id']"
      ],
      "execution_count": 0,
      "outputs": []
    },
    {
      "metadata": {
        "id": "upu2cUKfooQE",
        "colab_type": "code",
        "colab": {
          "autoexec": {
            "startup": false,
            "wait_interval": 0
          },
          "base_uri": "https://localhost:8080/",
          "height": 35
        },
        "outputId": "5cabdf00-2479-4a53-9f42-59df8e1bc1d4",
        "executionInfo": {
          "status": "ok",
          "timestamp": 1527456578072,
          "user_tz": 180,
          "elapsed": 15973,
          "user": {
            "displayName": "Osvaldo Xavier",
            "photoUrl": "//lh3.googleusercontent.com/-zybdqkQ08DI/AAAAAAAAAAI/AAAAAAAAAwA/gvGq15lUM1o/s50-c-k-no/photo.jpg",
            "userId": "109704789053915160529"
          }
        }
      },
      "cell_type": "code",
      "source": [
        "# Searching the dataset in google drive\n",
        "fileId = drive.CreateFile({'id': ID})\n",
        "print(fileId['title'])\n",
        "fileId.GetContentFile('dogbreed.zip')"
      ],
      "execution_count": 6,
      "outputs": [
        {
          "output_type": "stream",
          "text": [
            "dogbreed.zip\n"
          ],
          "name": "stdout"
        }
      ]
    },
    {
      "metadata": {
        "id": "dJwpTRGzvwgQ",
        "colab_type": "code",
        "colab": {
          "autoexec": {
            "startup": false,
            "wait_interval": 0
          }
        }
      },
      "cell_type": "code",
      "source": [
        "%%capture\n",
        "# Unzipping the dataset\n",
        "!unzip dogbreed.zip"
      ],
      "execution_count": 0,
      "outputs": []
    },
    {
      "metadata": {
        "id": "bLkhpjg59MaD",
        "colab_type": "code",
        "colab": {
          "autoexec": {
            "startup": false,
            "wait_interval": 0
          },
          "base_uri": "https://localhost:8080/",
          "height": 195
        },
        "outputId": "200d22fc-99b0-4a4b-ee69-aa8e72d197c6",
        "executionInfo": {
          "status": "ok",
          "timestamp": 1527462420009,
          "user_tz": 180,
          "elapsed": 877,
          "user": {
            "displayName": "Osvaldo Xavier",
            "photoUrl": "//lh3.googleusercontent.com/-zybdqkQ08DI/AAAAAAAAAAI/AAAAAAAAAwA/gvGq15lUM1o/s50-c-k-no/photo.jpg",
            "userId": "109704789053915160529"
          }
        }
      },
      "cell_type": "code",
      "source": [
        "# Verifing one example of the dataset\n",
        "from IPython.display import Image\n",
        "Image('MO444_dogs/train/54/54_0000.jpg')"
      ],
      "execution_count": 41,
      "outputs": [
        {
          "output_type": "execute_result",
          "data": {
            "image/jpeg": "[encoded data removed]",
            "text/plain": [
              "<IPython.core.display.Image object>"
            ]
          },
          "metadata": {
            "tags": []
          },
          "execution_count": 41
        }
      ]
    },
    {
      "metadata": {
        "id": "es5XVlfly4X1",
        "colab_type": "text"
      },
      "cell_type": "markdown",
      "source": [
        "# Download Convolution Network"
      ]
    },
    {
      "metadata": {
        "id": "ze4c8VJA6qdx",
        "colab_type": "code",
        "colab": {
          "autoexec": {
            "startup": false,
            "wait_interval": 0
          },
          "base_uri": "https://localhost:8080/",
          "height": 73
        },
        "outputId": "d8552e0a-9025-4ef2-d429-382f04b9c859",
        "executionInfo": {
          "status": "ok",
          "timestamp": 1527456739424,
          "user_tz": 180,
          "elapsed": 48710,
          "user": {
            "displayName": "Osvaldo Xavier",
            "photoUrl": "//lh3.googleusercontent.com/-zybdqkQ08DI/AAAAAAAAAAI/AAAAAAAAAwA/gvGq15lUM1o/s50-c-k-no/photo.jpg",
            "userId": "109704789053915160529"
          }
        }
      },
      "cell_type": "code",
      "source": [
        "incept_v2 = InceptionResNetV2(weights='imagenet', include_top=False, input_shape=(299, 299, 3))"
      ],
      "execution_count": 9,
      "outputs": [
        {
          "output_type": "stream",
          "text": [
            "Downloading data from https://github.com/fchollet/deep-learning-models/releases/download/v0.7/inception_resnet_v2_weights_tf_dim_ordering_tf_kernels_notop.h5\n",
            "219062272/219055592 [==============================] - 10s 0us/step\n"
          ],
          "name": "stdout"
        }
      ]
    },
    {
      "metadata": {
        "id": "kXH-eqqvjBEf",
        "colab_type": "code",
        "colab": {
          "autoexec": {
            "startup": false,
            "wait_interval": 0
          },
          "base_uri": "https://localhost:8080/",
          "height": 14057
        },
        "outputId": "25364f8f-7d85-4bfa-f3ca-956e4371b7be",
        "executionInfo": {
          "status": "ok",
          "timestamp": 1527472116185,
          "user_tz": 180,
          "elapsed": 881,
          "user": {
            "displayName": "Osvaldo Xavier",
            "photoUrl": "//lh3.googleusercontent.com/-zybdqkQ08DI/AAAAAAAAAAI/AAAAAAAAAwA/gvGq15lUM1o/s50-c-k-no/photo.jpg",
            "userId": "109704789053915160529"
          }
        }
      },
      "cell_type": "code",
      "source": [
        "# Freeze the layers except the last 4 layers\n",
        "for layer in incept_v2.layers[:-4]:\n",
        "    layer.trainable = False\n",
        "    \n",
        "# Check the trainable status of the individual layers\n",
        "for layer in incept_v2.layers:\n",
        "    print(layer, layer.trainable)"
      ],
      "execution_count": 82,
      "outputs": [
        {
          "output_type": "stream",
          "text": [
            "<keras.engine.topology.InputLayer object at 0x7fe4e6fa3470> False\n",
            "<keras.layers.convolutional.Conv2D object at 0x7fe4e6fa37f0> False\n",
            "<keras.layers.normalization.BatchNormalization object at 0x7fe4e750e6d8> False\n",
            "<keras.layers.core.Activation object at 0x7fe52602f780> False\n",
            "<keras.layers.convolutional.Conv2D object at 0x7fe4e707bda0> False\n",
            "<keras.layers.normalization.BatchNormalization object at 0x7fe4e700de48> False\n",
            "<keras.layers.core.Activation object at 0x7fe4e16f5668> False\n",
            "<keras.layers.convolutional.Conv2D object at 0x7fe4e1699278> False\n",
            "<keras.layers.normalization.BatchNormalization object at 0x7fe4e16a9a90> False\n",
            "<keras.layers.core.Activation object at 0x7fe4e15d65c0> False\n",
            "<keras.layers.pooling.MaxPooling2D object at 0x7fe4e159b9b0> False\n",
            "<keras.layers.convolutional.Conv2D object at 0x7fe4e15f5fd0> False\n",
            "<keras.layers.normalization.BatchNormalization object at 0x7fe4e15b8f28> False\n",
            "<keras.layers.core.Activation object at 0x7fe4e153d400> False\n",
            "<keras.layers.convolutional.Conv2D object at 0x7fe4e14fb940> False\n",
            "<keras.layers.normalization.BatchNormalization object at 0x7fe4e14ddb00> False\n",
            "<keras.layers.core.Activation object at 0x7fe4e1439cc0> False\n",
            "<keras.layers.pooling.MaxPooling2D object at 0x7fe4e141de80> False\n",
            "<keras.layers.convolutional.Conv2D object at 0x7fe4e11993c8> False\n",
            "<keras.layers.normalization.BatchNormalization object at 0x7fe4e11b3e80> False\n",
            "<keras.layers.core.Activation object at 0x7fe4e118c710> False\n",
            "<keras.layers.convolutional.Conv2D object at 0x7fe4e1320780> False\n",
            "<keras.layers.convolutional.Conv2D object at 0x7fe4e10a99b0> False\n",
            "<keras.layers.normalization.BatchNormalization object at 0x7fe4e13859b0> False\n",
            "<keras.layers.normalization.BatchNormalization object at 0x7fe4e1148d68> False\n",
            "<keras.layers.core.Activation object at 0x7fe4e12c5f28> False\n",
            "<keras.layers.core.Activation object at 0x7fe4e0fe7dd8> False\n",
            "<keras.layers.pooling.AveragePooling2D object at 0x7fe4e0f2ec88> False\n",
            "<keras.layers.convolutional.Conv2D object at 0x7fe4e1470eb8> False\n",
            "<keras.layers.convolutional.Conv2D object at 0x7fe4e1274a20> False\n",
            "<keras.layers.convolutional.Conv2D object at 0x7fe4e10649b0> False\n",
            "<keras.layers.convolutional.Conv2D object at 0x7fe4e0f7dfd0> False\n",
            "<keras.layers.normalization.BatchNormalization object at 0x7fe4e6f7bba8> False\n",
            "<keras.layers.normalization.BatchNormalization object at 0x7fe4e1296dd8> False\n",
            "<keras.layers.normalization.BatchNormalization object at 0x7fe4e104d358> False\n",
            "<keras.layers.normalization.BatchNormalization object at 0x7fe4e0f0ab00> False\n",
            "<keras.layers.core.Activation object at 0x7fe4e13672e8> False\n",
            "<keras.layers.core.Activation object at 0x7fe4e11eaf28> False\n",
            "<keras.layers.core.Activation object at 0x7fe4e0fc26a0> False\n",
            "<keras.layers.core.Activation object at 0x7fe4e0e61630> False\n",
            "<keras.layers.merge.Concatenate object at 0x7fe4e0e3d978> False\n",
            "<keras.layers.convolutional.Conv2D object at 0x7fe4e0b607f0> False\n",
            "<keras.layers.normalization.BatchNormalization object at 0x7fe4e0bbfef0> False\n",
            "<keras.layers.core.Activation object at 0x7fe4e0b09f98> False\n",
            "<keras.layers.convolutional.Conv2D object at 0x7fe4e0d24860> False\n",
            "<keras.layers.convolutional.Conv2D object at 0x7fe4e0abda90> False\n",
            "<keras.layers.normalization.BatchNormalization object at 0x7fe4e0d88f60> False\n",
            "<keras.layers.normalization.BatchNormalization object at 0x7fe4e0ad7e48> False\n",
            "<keras.layers.core.Activation object at 0x7fe4e0ccdef0> False\n",
            "<keras.layers.core.Activation object at 0x7fe4e0a34f98> False\n",
            "<keras.layers.convolutional.Conv2D object at 0x7fe4e0e8cb38> False\n",
            "<keras.layers.convolutional.Conv2D object at 0x7fe4e0c6f828> False\n",
            "<keras.layers.convolutional.Conv2D object at 0x7fe4e09e3198> False\n",
            "<keras.layers.normalization.BatchNormalization object at 0x7fe4e0dddf60> False\n",
            "<keras.layers.normalization.BatchNormalization object at 0x7fe4e0c9df98> False\n",
            "<keras.layers.normalization.BatchNormalization object at 0x7fe4e09faef0> False\n",
            "<keras.layers.core.Activation object at 0x7fe4e0d62278> False\n",
            "<keras.layers.core.Activation object at 0x7fe4e0b9c400> False\n",
            "<keras.layers.core.Activation object at 0x7fe4e0958780> False\n",
            "<keras.layers.merge.Concatenate object at 0x7fe4e0945d68> False\n",
            "<keras.layers.convolutional.Conv2D object at 0x7fe4e0900470> False\n",
            "<keras.layers.core.Lambda object at 0x7fe4e08a3a58> False\n",
            "<keras.layers.core.Activation object at 0x7fe4e0877710> False\n",
            "<keras.layers.convolutional.Conv2D object at 0x7fe4e0644860> False\n",
            "<keras.layers.normalization.BatchNormalization object at 0x7fe4e0623f60> False\n",
            "<keras.layers.core.Activation object at 0x7fe4e056aef0> False\n",
            "<keras.layers.convolutional.Conv2D object at 0x7fe4e0807898> False\n",
            "<keras.layers.convolutional.Conv2D object at 0x7fe4e0577828> False\n",
            "<keras.layers.normalization.BatchNormalization object at 0x7fe4e07c3860> False\n",
            "<keras.layers.normalization.BatchNormalization object at 0x7fe4e05bef98> False\n",
            "<keras.layers.core.Activation object at 0x7fe4e0781eb8> False\n",
            "<keras.layers.core.Activation object at 0x7fe4e04be400> False\n",
            "<keras.layers.convolutional.Conv2D object at 0x7fe4e0877ac8> False\n",
            "<keras.layers.convolutional.Conv2D object at 0x7fe4e072f278> False\n",
            "<keras.layers.convolutional.Conv2D object at 0x7fe4e04817f0> False\n",
            "<keras.layers.normalization.BatchNormalization object at 0x7fe4e084cef0> False\n",
            "<keras.layers.normalization.BatchNormalization object at 0x7fe4e06d0898> False\n",
            "<keras.layers.normalization.BatchNormalization object at 0x7fe4e045fef0> False\n",
            "<keras.layers.core.Activation object at 0x7fe4e07e3fd0> False\n",
            "<keras.layers.core.Activation object at 0x7fe4e0681470> False\n",
            "<keras.layers.core.Activation object at 0x7fe4e043c7f0> False\n",
            "<keras.layers.merge.Concatenate object at 0x7fe4e03a8dd8> False\n",
            "<keras.layers.convolutional.Conv2D object at 0x7fe4e03664e0> False\n",
            "<keras.layers.core.Lambda object at 0x7fe4e0387ac8> False\n",
            "<keras.layers.core.Activation object at 0x7fe4e02dc780> False\n",
            "<keras.layers.convolutional.Conv2D object at 0x7fe4e00ab860> False\n",
            "<keras.layers.normalization.BatchNormalization object at 0x7fe4e0109f60> False\n",
            "<keras.layers.core.Activation object at 0x7fe4e004fef0> False\n",
            "<keras.layers.convolutional.Conv2D object at 0x7fe4e026e898> False\n",
            "<keras.layers.convolutional.Conv2D object at 0x7fe4dfff1828> False\n",
            "<keras.layers.normalization.BatchNormalization object at 0x7fe4e02c8518> False\n",
            "<keras.layers.normalization.BatchNormalization object at 0x7fe4e0023f98> False\n",
            "<keras.layers.core.Activation object at 0x7fe4e01e6eb8> False\n",
            "<keras.layers.core.Activation object at 0x7fe4dff23400> False\n",
            "<keras.layers.convolutional.Conv2D object at 0x7fe4e02dcb38> False\n",
            "<keras.layers.convolutional.Conv2D object at 0x7fe4e0197278> False\n",
            "<keras.layers.convolutional.Conv2D object at 0x7fe4dfee47f0> False\n",
            "<keras.layers.normalization.BatchNormalization object at 0x7fe4e02a9f28> False\n",
            "<keras.layers.normalization.BatchNormalization object at 0x7fe4e01b9898> False\n",
            "<keras.layers.normalization.BatchNormalization object at 0x7fe4dff44ef0> False\n",
            "<keras.layers.core.Activation object at 0x7fe4e02c8fd0> False\n",
            "<keras.layers.core.Activation object at 0x7fe4e00e9470> False\n",
            "<keras.layers.core.Activation object at 0x7fe4dfe9f7f0> False\n",
            "<keras.layers.merge.Concatenate object at 0x7fe4dfe8cdd8> False\n",
            "<keras.layers.convolutional.Conv2D object at 0x7fe4dfe4a4e0> False\n",
            "<keras.layers.core.Lambda object at 0x7fe4dfdebac8> False\n",
            "<keras.layers.core.Activation object at 0x7fe4dfdc1780> False\n",
            "<keras.layers.convolutional.Conv2D object at 0x7fe4dfb8f860> False\n",
            "<keras.layers.normalization.BatchNormalization object at 0x7fe4dfb4c860> False\n",
            "<keras.layers.core.Activation object at 0x7fe4dfab6ef0> False\n",
            "<keras.layers.convolutional.Conv2D object at 0x7fe4dfcd2898> False\n",
            "<keras.layers.convolutional.Conv2D object at 0x7fe4dfa5a828> False\n",
            "<keras.layers.normalization.BatchNormalization object at 0x7fe4dfd19518> False\n",
            "<keras.layers.normalization.BatchNormalization object at 0x7fe4dfae0f98> False\n",
            "<keras.layers.core.Activation object at 0x7fe4dfccceb8> False\n",
            "<keras.layers.core.Activation object at 0x7fe4dfa0a400> False\n",
            "<keras.layers.convolutional.Conv2D object at 0x7fe4dfdc1b38> False\n",
            "<keras.layers.convolutional.Conv2D object at 0x7fe4dfc7b278> False\n",
            "<keras.layers.convolutional.Conv2D object at 0x7fe4df9ca7f0> False\n",
            "<keras.layers.normalization.BatchNormalization object at 0x7fe4dfd8ff28> False\n",
            "<keras.layers.normalization.BatchNormalization object at 0x7fe4dfc20898> False\n",
            "<keras.layers.normalization.BatchNormalization object at 0x7fe4df9a8ef0> False\n",
            "<keras.layers.core.Activation object at 0x7fe4dfd19fd0> False\n",
            "<keras.layers.core.Activation object at 0x7fe4dfbcf470> False\n",
            "<keras.layers.core.Activation object at 0x7fe4df9847f0> False\n",
            "<keras.layers.merge.Concatenate object at 0x7fe4df8f2dd8> False\n",
            "<keras.layers.convolutional.Conv2D object at 0x7fe4df8b14e0> False\n",
            "<keras.layers.core.Lambda object at 0x7fe4df853ac8> False\n",
            "<keras.layers.core.Activation object at 0x7fe4df825780> False\n",
            "<keras.layers.convolutional.Conv2D object at 0x7fe4df5f4860> False\n",
            "<keras.layers.normalization.BatchNormalization object at 0x7fe4df5d3f60> False\n",
            "<keras.layers.core.Activation object at 0x7fe4df51def0> False\n",
            "<keras.layers.convolutional.Conv2D object at 0x7fe4df7b9898> False\n",
            "<keras.layers.convolutional.Conv2D object at 0x7fe4df53b828> False\n",
            "<keras.layers.normalization.BatchNormalization object at 0x7fe4df792518> False\n",
            "<keras.layers.normalization.BatchNormalization object at 0x7fe4df56cf98> False\n",
            "<keras.layers.core.Activation object at 0x7fe4df732eb8> False\n",
            "<keras.layers.core.Activation object at 0x7fe4df46e400> False\n",
            "<keras.layers.convolutional.Conv2D object at 0x7fe4df825b38> False\n",
            "<keras.layers.convolutional.Conv2D object at 0x7fe4df6df278> False\n",
            "<keras.layers.convolutional.Conv2D object at 0x7fe4df4307f0> False\n",
            "<keras.layers.normalization.BatchNormalization object at 0x7fe4df7f4f28> False\n",
            "<keras.layers.normalization.BatchNormalization object at 0x7fe4df701898> False\n",
            "<keras.layers.normalization.BatchNormalization object at 0x7fe4df48eef0> False\n",
            "<keras.layers.core.Activation object at 0x7fe4df792fd0> False\n",
            "<keras.layers.core.Activation object at 0x7fe4df62f470> False\n",
            "<keras.layers.core.Activation object at 0x7fe4df3e87f0> False\n",
            "<keras.layers.merge.Concatenate object at 0x7fe4df355dd8> False\n",
            "<keras.layers.convolutional.Conv2D object at 0x7fe4df3154e0> False\n",
            "<keras.layers.core.Lambda object at 0x7fe4df337ac8> False\n",
            "<keras.layers.core.Activation object at 0x7fe4df30c780> False\n",
            "<keras.layers.convolutional.Conv2D object at 0x7fe4df059860> False\n",
            "<keras.layers.normalization.BatchNormalization object at 0x7fe4df0baf60> False\n",
            "<keras.layers.core.Activation object at 0x7fe4df001ef0> False\n",
            "<keras.layers.convolutional.Conv2D object at 0x7fe4df21e898> False\n",
            "<keras.layers.convolutional.Conv2D object at 0x7fe4defa4828> False\n",
            "<keras.layers.normalization.BatchNormalization object at 0x7fe4df276518> False\n",
            "<keras.layers.normalization.BatchNormalization object at 0x7fe4defd1f98> False\n",
            "<keras.layers.core.Activation object at 0x7fe4df198eb8> False\n",
            "<keras.layers.core.Activation object at 0x7fe4deed2400> False\n",
            "<keras.layers.convolutional.Conv2D object at 0x7fe4df30cb38> False\n",
            "<keras.layers.convolutional.Conv2D object at 0x7fe4df1c7278> False\n",
            "<keras.layers.convolutional.Conv2D object at 0x7fe4dee947f0> False\n",
            "<keras.layers.normalization.BatchNormalization object at 0x7fe4df259f28> False\n",
            "<keras.layers.normalization.BatchNormalization object at 0x7fe4df16a898> False\n",
            "<keras.layers.normalization.BatchNormalization object at 0x7fe4deef2ef0> False\n",
            "<keras.layers.core.Activation object at 0x7fe4df276fd0> False\n",
            "<keras.layers.core.Activation object at 0x7fe4df098470> False\n",
            "<keras.layers.core.Activation object at 0x7fe4deecb7f0> False\n",
            "<keras.layers.merge.Concatenate object at 0x7fe4dee39dd8> False\n",
            "<keras.layers.convolutional.Conv2D object at 0x7fe4dedf84e0> False\n",
            "<keras.layers.core.Lambda object at 0x7fe4dee8ce10> False\n",
            "<keras.layers.core.Activation object at 0x7fe4ded72978> False\n",
            "<keras.layers.convolutional.Conv2D object at 0x7fe4deb3f860> False\n",
            "<keras.layers.normalization.BatchNormalization object at 0x7fe4deb20f60> False\n",
            "<keras.layers.core.Activation object at 0x7fe4dea67ef0> False\n",
            "<keras.layers.convolutional.Conv2D object at 0x7fe4ded02898> False\n",
            "<keras.layers.convolutional.Conv2D object at 0x7fe4dea8a828> False\n",
            "<keras.layers.normalization.BatchNormalization object at 0x7fe4ded47518> False\n",
            "<keras.layers.normalization.BatchNormalization object at 0x7fe4deab6f98> False\n",
            "<keras.layers.core.Activation object at 0x7fe4dec7beb8> False\n",
            "<keras.layers.core.Activation object at 0x7fe4de9b6400> False\n",
            "<keras.layers.convolutional.Conv2D object at 0x7fe4ded72710> False\n",
            "<keras.layers.convolutional.Conv2D object at 0x7fe4dec2a278> False\n",
            "<keras.layers.convolutional.Conv2D object at 0x7fe4de97a7f0> False\n",
            "<keras.layers.normalization.BatchNormalization object at 0x7fe4ded3ff28> False\n",
            "<keras.layers.normalization.BatchNormalization object at 0x7fe4dec4d898> False\n",
            "<keras.layers.normalization.BatchNormalization object at 0x7fe4de957ef0> False\n",
            "<keras.layers.core.Activation object at 0x7fe4ded47fd0> False\n",
            "<keras.layers.core.Activation object at 0x7fe4deb7f470> False\n",
            "<keras.layers.core.Activation object at 0x7fe4de9327f0> False\n",
            "<keras.layers.merge.Concatenate object at 0x7fe4de8a0dd8> False\n",
            "<keras.layers.convolutional.Conv2D object at 0x7fe4de8604e0> False\n",
            "<keras.layers.core.Lambda object at 0x7fe4de882ac8> False\n",
            "<keras.layers.core.Activation object at 0x7fe4de7d6780> False\n",
            "<keras.layers.convolutional.Conv2D object at 0x7fe4de5a2860> False\n",
            "<keras.layers.normalization.BatchNormalization object at 0x7fe4de603f60> False\n",
            "<keras.layers.core.Activation object at 0x7fe4de54cef0> False\n",
            "<keras.layers.convolutional.Conv2D object at 0x7fe4de768898> False\n",
            "<keras.layers.convolutional.Conv2D object at 0x7fe4de4e8828> False\n",
            "<keras.layers.normalization.BatchNormalization object at 0x7fe4de7c1518> False\n",
            "<keras.layers.normalization.BatchNormalization object at 0x7fe4de51df98> False\n",
            "<keras.layers.core.Activation object at 0x7fe4de6e1eb8> False\n",
            "<keras.layers.core.Activation object at 0x7fe4de41c400> False\n",
            "<keras.layers.convolutional.Conv2D object at 0x7fe4de7d6b38> False\n",
            "<keras.layers.convolutional.Conv2D object at 0x7fe4de692278> False\n",
            "<keras.layers.convolutional.Conv2D object at 0x7fe4de3de7f0> False\n",
            "<keras.layers.normalization.BatchNormalization object at 0x7fe4de7a4f28> False\n",
            "<keras.layers.normalization.BatchNormalization object at 0x7fe4de6b0898> False\n",
            "<keras.layers.normalization.BatchNormalization object at 0x7fe4de43def0> False\n",
            "<keras.layers.core.Activation object at 0x7fe4de7c1fd0> False\n",
            "<keras.layers.core.Activation object at 0x7fe4de5e1470> False\n",
            "<keras.layers.core.Activation object at 0x7fe4de3997f0> False\n",
            "<keras.layers.merge.Concatenate object at 0x7fe4de387dd8> False\n",
            "<keras.layers.convolutional.Conv2D object at 0x7fe4de3474e0> False\n",
            "<keras.layers.core.Lambda object at 0x7fe4de2e9ac8> False\n",
            "<keras.layers.core.Activation object at 0x7fe4de2bc780> False\n",
            "<keras.layers.convolutional.Conv2D object at 0x7fe4de088860> False\n",
            "<keras.layers.normalization.BatchNormalization object at 0x7fe4de068f60> False\n",
            "<keras.layers.core.Activation object at 0x7fe4ddfb0ef0> False\n",
            "<keras.layers.convolutional.Conv2D object at 0x7fe4de24c898> False\n",
            "<keras.layers.convolutional.Conv2D object at 0x7fe4ddf52828> False\n",
            "<keras.layers.normalization.BatchNormalization object at 0x7fe4de228518> False\n",
            "<keras.layers.normalization.BatchNormalization object at 0x7fe4de001f98> False\n",
            "<keras.layers.core.Activation object at 0x7fe4de1c8eb8> False\n",
            "<keras.layers.core.Activation object at 0x7fe4ddefe400> False\n",
            "<keras.layers.convolutional.Conv2D object at 0x7fe4de2bcb38> False\n",
            "<keras.layers.convolutional.Conv2D object at 0x7fe4de176278> False\n",
            "<keras.layers.convolutional.Conv2D object at 0x7fe4ddec37f0> False\n",
            "<keras.layers.normalization.BatchNormalization object at 0x7fe4de289f28> False\n",
            "<keras.layers.normalization.BatchNormalization object at 0x7fe4de114898> False\n",
            "<keras.layers.normalization.BatchNormalization object at 0x7fe4ddea2ef0> False\n",
            "<keras.layers.core.Activation object at 0x7fe4de228fd0> False\n",
            "<keras.layers.core.Activation object at 0x7fe4de0c6470> False\n",
            "<keras.layers.core.Activation object at 0x7fe4dde7e7f0> False\n",
            "<keras.layers.merge.Concatenate object at 0x7fe4dddebdd8> False\n",
            "<keras.layers.convolutional.Conv2D object at 0x7fe4ddda94e0> False\n",
            "<keras.layers.core.Lambda object at 0x7fe4dddcaac8> False\n",
            "<keras.layers.core.Activation object at 0x7fe4ddd1f780> False\n",
            "<keras.layers.convolutional.Conv2D object at 0x7fe4ddaed860> False\n",
            "<keras.layers.normalization.BatchNormalization object at 0x7fe4ddb4df60> False\n",
            "<keras.layers.core.Activation object at 0x7fe4dda16ef0> False\n",
            "<keras.layers.convolutional.Conv2D object at 0x7fe4dde7e1d0> False\n",
            "<keras.layers.convolutional.Conv2D object at 0x7fe4dda38828> False\n",
            "<keras.layers.normalization.BatchNormalization object at 0x7fe4ddcf9518> False\n",
            "<keras.layers.normalization.BatchNormalization object at 0x7fe4dda66f98> False\n",
            "<keras.layers.core.Activation object at 0x7fe4ddc2aeb8> False\n",
            "<keras.layers.core.Activation object at 0x7fe4dd967400> False\n",
            "<keras.layers.convolutional.Conv2D object at 0x7fe4ddd1fb38> False\n",
            "<keras.layers.convolutional.Conv2D object at 0x7fe4ddbd8278> False\n",
            "<keras.layers.convolutional.Conv2D object at 0x7fe4dd9297f0> False\n",
            "<keras.layers.normalization.BatchNormalization object at 0x7fe4ddcedf28> False\n",
            "<keras.layers.normalization.BatchNormalization object at 0x7fe4ddbfb898> False\n",
            "<keras.layers.normalization.BatchNormalization object at 0x7fe4dd988ef0> False\n",
            "<keras.layers.core.Activation object at 0x7fe4ddcf9fd0> False\n",
            "<keras.layers.core.Activation object at 0x7fe4ddb2a470> False\n",
            "<keras.layers.core.Activation object at 0x7fe4dd8e57f0> False\n",
            "<keras.layers.merge.Concatenate object at 0x7fe4dd850dd8> False\n",
            "<keras.layers.convolutional.Conv2D object at 0x7fe4dd8104e0> False\n",
            "<keras.layers.core.Lambda object at 0x7fe4dd82fac8> False\n",
            "<keras.layers.core.Activation object at 0x7fe4dd802780> False\n",
            "<keras.layers.convolutional.Conv2D object at 0x7fe4dd715898> False\n",
            "<keras.layers.normalization.BatchNormalization object at 0x7fe4dd76f518> False\n",
            "<keras.layers.core.Activation object at 0x7fe4dd70deb8> False\n",
            "<keras.layers.convolutional.Conv2D object at 0x7fe4dd6bc278> False\n",
            "<keras.layers.normalization.BatchNormalization object at 0x7fe4dd65f898> False\n",
            "<keras.layers.core.Activation object at 0x7fe4dd60b470> False\n",
            "<keras.layers.convolutional.Conv2D object at 0x7fe4dd802b38> False\n",
            "<keras.layers.convolutional.Conv2D object at 0x7fe4dd5cc860> False\n",
            "<keras.layers.normalization.BatchNormalization object at 0x7fe4dd753f28> False\n",
            "<keras.layers.normalization.BatchNormalization object at 0x7fe4dd5aaf60> False\n",
            "<keras.layers.core.Activation object at 0x7fe4dd76ffd0> False\n",
            "<keras.layers.core.Activation object at 0x7fe4dd585860> False\n",
            "<keras.layers.pooling.MaxPooling2D object at 0x7fe4dd4f2e48> False\n",
            "<keras.layers.merge.Concatenate object at 0x7fe4dd542e80> False\n",
            "<keras.layers.convolutional.Conv2D object at 0x7fe4dd3e68d0> False\n",
            "<keras.layers.normalization.BatchNormalization object at 0x7fe4dd3b42b0> False\n",
            "<keras.layers.core.Activation object at 0x7fe4dd3cc080> False\n",
            "<keras.layers.convolutional.Conv2D object at 0x7fe4dd2e4400> False\n",
            "<keras.layers.normalization.BatchNormalization object at 0x7fe4dd307b70> False\n",
            "<keras.layers.core.Activation object at 0x7fe4dd29f588> False\n",
            "<keras.layers.convolutional.Conv2D object at 0x7fe4dd4664e0> False\n",
            "<keras.layers.convolutional.Conv2D object at 0x7fe4dd28b9e8> False\n",
            "<keras.layers.normalization.BatchNormalization object at 0x7fe4dd450da0> False\n",
            "<keras.layers.normalization.BatchNormalization object at 0x7fe4dd1eb240> False\n",
            "<keras.layers.core.Activation object at 0x7fe4dd3e9668> False\n",
            "<keras.layers.core.Activation object at 0x7fe4dd1cb9b0> False\n",
            "<keras.layers.merge.Concatenate object at 0x7fe4dd16d400> False\n",
            "<keras.layers.convolutional.Conv2D object at 0x7fe4dd115da0> False\n",
            "<keras.layers.core.Lambda object at 0x7fe4dd180278> False\n",
            "<keras.layers.core.Activation object at 0x7fe4dd0ad6a0> False\n",
            "<keras.layers.convolutional.Conv2D object at 0x7fe4dd020748> False\n",
            "<keras.layers.normalization.BatchNormalization object at 0x7fe4dd07e3c8> False\n",
            "<keras.layers.core.Activation object at 0x7fe4dcfcbf28> False\n",
            "<keras.layers.convolutional.Conv2D object at 0x7fe4dcf7ea20> False\n",
            "<keras.layers.normalization.BatchNormalization object at 0x7fe4dcf9bdd8> False\n",
            "<keras.layers.core.Activation object at 0x7fe4dcef3f28> False\n",
            "<keras.layers.convolutional.Conv2D object at 0x7fe4dd0ad400> False\n",
            "<keras.layers.convolutional.Conv2D object at 0x7fe4dcea33c8> False\n",
            "<keras.layers.normalization.BatchNormalization object at 0x7fe4dd05ed68> False\n",
            "<keras.layers.normalization.BatchNormalization object at 0x7fe4dcebde80> False\n",
            "<keras.layers.core.Activation object at 0x7fe4dd06ac50> False\n",
            "<keras.layers.core.Activation object at 0x7fe4dce17710> False\n",
            "<keras.layers.merge.Concatenate object at 0x7fe4dce08cf8> False\n",
            "<keras.layers.convolutional.Conv2D object at 0x7fe4dcdc2400> False\n",
            "<keras.layers.core.Lambda object at 0x7fe4dcd7d278> False\n",
            "<keras.layers.core.Activation object at 0x7fe4dcd3c6a0> False\n",
            "<keras.layers.convolutional.Conv2D object at 0x7fe4dcc99a20> False\n",
            "<keras.layers.normalization.BatchNormalization object at 0x7fe4dccada90> False\n",
            "<keras.layers.core.Activation object at 0x7fe4dcc7d3c8> False\n",
            "<keras.layers.convolutional.Conv2D object at 0x7fe4dcb9bda0> False\n",
            "<keras.layers.normalization.BatchNormalization object at 0x7fe4dcbe0470> False\n",
            "<keras.layers.core.Activation object at 0x7fe4dcb39940> False\n",
            "<keras.layers.convolutional.Conv2D object at 0x7fe4dcd3ca58> False\n",
            "<keras.layers.convolutional.Conv2D object at 0x7fe4dcad8390> False\n",
            "<keras.layers.normalization.BatchNormalization object at 0x7fe4dcd06748> False\n",
            "<keras.layers.normalization.BatchNormalization object at 0x7fe4dcaeca58> False\n",
            "<keras.layers.core.Activation object at 0x7fe4dcc999e8> False\n",
            "<keras.layers.core.Activation object at 0x7fe4dca1b630> False\n",
            "<keras.layers.merge.Concatenate object at 0x7fe4dc9e2a20> False\n",
            "<keras.layers.convolutional.Conv2D object at 0x7fe4dca03b70> False\n",
            "<keras.layers.core.Lambda object at 0x7fe4dc99c898> False\n",
            "<keras.layers.core.Activation object at 0x7fe4dc98aeb8> False\n",
            "<keras.layers.convolutional.Conv2D object at 0x7fe4dc8f93c8> False\n",
            "<keras.layers.normalization.BatchNormalization object at 0x7fe4dc89cb70> False\n",
            "<keras.layers.core.Activation object at 0x7fe4dc8b2588> False\n",
            "<keras.layers.convolutional.Conv2D object at 0x7fe4dc84e6a0> False\n",
            "<keras.layers.normalization.BatchNormalization object at 0x7fe4dc870a90> False\n",
            "<keras.layers.core.Activation object at 0x7fe4dc8096a0> False\n",
            "<keras.layers.convolutional.Conv2D object at 0x7fe4dc958f28> False\n",
            "<keras.layers.convolutional.Conv2D object at 0x7fe4dc779c88> False\n",
            "<keras.layers.normalization.BatchNormalization object at 0x7fe4dc92dd68> False\n",
            "<keras.layers.normalization.BatchNormalization object at 0x7fe4dc6d4b00> False\n",
            "<keras.layers.core.Activation object at 0x7fe4dc93ad30> False\n",
            "<keras.layers.core.Activation object at 0x7fe4dc667f60> False\n",
            "<keras.layers.merge.Concatenate object at 0x7fe4dc651978> False\n",
            "<keras.layers.convolutional.Conv2D object at 0x7fe4dc674da0> False\n",
            "<keras.layers.core.Lambda object at 0x7fe4dc62df28> False\n",
            "<keras.layers.core.Activation object at 0x7fe4dc5c4fd0> False\n",
            "<keras.layers.convolutional.Conv2D object at 0x7fe4dc5869e8> False\n",
            "<keras.layers.normalization.BatchNormalization object at 0x7fe4dc560668> False\n",
            "<keras.layers.core.Activation object at 0x7fe4dc500f60> False\n",
            "<keras.layers.convolutional.Conv2D object at 0x7fe4dc4ac320> False\n",
            "<keras.layers.normalization.BatchNormalization object at 0x7fe4dc4c89e8> False\n",
            "<keras.layers.core.Activation object at 0x7fe4dc3fd5c0> False\n",
            "<keras.layers.convolutional.Conv2D object at 0x7fe4dc5cc3c8> False\n",
            "<keras.layers.convolutional.Conv2D object at 0x7fe4dc3c19b0> False\n",
            "<keras.layers.normalization.BatchNormalization object at 0x7fe4dc60d320> False\n",
            "<keras.layers.normalization.BatchNormalization object at 0x7fe4dc39de48> False\n",
            "<keras.layers.core.Activation object at 0x7fe4dc560748> False\n",
            "<keras.layers.core.Activation object at 0x7fe4dc303dd8> False\n",
            "<keras.layers.merge.Concatenate object at 0x7fe4dc37e9b0> False\n",
            "<keras.layers.convolutional.Conv2D object at 0x7fe4dc2a36a0> False\n",
            "<keras.layers.core.Lambda object at 0x7fe4dc25f518> False\n",
            "<keras.layers.core.Activation object at 0x7fe4dc21d940> False\n",
            "<keras.layers.convolutional.Conv2D object at 0x7fe4dc1a17b8> False\n",
            "<keras.layers.normalization.BatchNormalization object at 0x7fe4dc1fbc88> False\n",
            "<keras.layers.core.Activation object at 0x7fe4dc15fe80> False\n",
            "<keras.layers.convolutional.Conv2D object at 0x7fe4dc101a58> False\n",
            "<keras.layers.normalization.BatchNormalization object at 0x7fe4dc0bda90> False\n",
            "<keras.layers.core.Activation object at 0x7fe4dc0534a8> False\n",
            "<keras.layers.convolutional.Conv2D object at 0x7fe4dc21dcf8> False\n",
            "<keras.layers.convolutional.Conv2D object at 0x7fe4dc03c908> False\n",
            "<keras.layers.normalization.BatchNormalization object at 0x7fe4dc1eb9e8> False\n",
            "<keras.layers.normalization.BatchNormalization object at 0x7fe4dc08c748> False\n",
            "<keras.layers.core.Activation object at 0x7fe4dc194f28> False\n",
            "<keras.layers.core.Activation object at 0x7fe4dbf7c8d0> False\n",
            "<keras.layers.merge.Concatenate object at 0x7fe4dbf1f4a8> False\n",
            "<keras.layers.convolutional.Conv2D object at 0x7fe4dbf46cc0> False\n",
            "<keras.layers.core.Lambda object at 0x7fe4dbefdb38> False\n",
            "<keras.layers.core.Activation object at 0x7fe4dbe655c0> False\n",
            "<keras.layers.convolutional.Conv2D object at 0x7fe4dbdd8668> False\n",
            "<keras.layers.normalization.BatchNormalization object at 0x7fe4dbe342e8> False\n",
            "<keras.layers.core.Activation object at 0x7fe4dbd917f0> False\n",
            "<keras.layers.convolutional.Conv2D object at 0x7fe4dbd33940> False\n",
            "<keras.layers.normalization.BatchNormalization object at 0x7fe4dbdced30> False\n",
            "<keras.layers.core.Activation object at 0x7fe4dbceb940> False\n",
            "<keras.layers.convolutional.Conv2D object at 0x7fe4dbe65320> False\n",
            "<keras.layers.convolutional.Conv2D object at 0x7fe4dbc58f28> False\n",
            "<keras.layers.normalization.BatchNormalization object at 0x7fe4dbe11c88> False\n",
            "<keras.layers.normalization.BatchNormalization object at 0x7fe4dbc3af98> False\n",
            "<keras.layers.core.Activation object at 0x7fe4dbe1cfd0> False\n",
            "<keras.layers.core.Activation object at 0x7fe4dbc4d7b8> False\n",
            "<keras.layers.merge.Concatenate object at 0x7fe4dbbbdc18> False\n",
            "<keras.layers.convolutional.Conv2D object at 0x7fe4dbb64a58> False\n",
            "<keras.layers.core.Lambda object at 0x7fe4dbb34240> False\n",
            "<keras.layers.core.Activation object at 0x7fe4dbaea5c0> False\n",
            "<keras.layers.convolutional.Conv2D object at 0x7fe4dba54940> False\n",
            "<keras.layers.normalization.BatchNormalization object at 0x7fe4dba689b0> False\n",
            "<keras.layers.core.Activation object at 0x7fe4db9f1dd8> False\n",
            "<keras.layers.convolutional.Conv2D object at 0x7fe4db99a5c0> False\n",
            "<keras.layers.normalization.BatchNormalization object at 0x7fe4db9baeb8> False\n",
            "<keras.layers.core.Activation object at 0x7fe4db8ef860> False\n",
            "<keras.layers.convolutional.Conv2D object at 0x7fe4dbaea978> False\n",
            "<keras.layers.convolutional.Conv2D object at 0x7fe4db892438> False\n",
            "<keras.layers.normalization.BatchNormalization object at 0x7fe4dbac0668> False\n",
            "<keras.layers.normalization.BatchNormalization object at 0x7fe4db8a4978> False\n",
            "<keras.layers.core.Activation object at 0x7fe4dba54908> False\n",
            "<keras.layers.core.Activation object at 0x7fe4db7d5550> False\n",
            "<keras.layers.merge.Concatenate object at 0x7fe4db797940> False\n",
            "<keras.layers.convolutional.Conv2D object at 0x7fe4db7b9a90> False\n",
            "<keras.layers.core.Lambda object at 0x7fe4db7537b8> False\n",
            "<keras.layers.core.Activation object at 0x7fe4db712fd0> False\n",
            "<keras.layers.convolutional.Conv2D object at 0x7fe4db69da20> False\n",
            "<keras.layers.normalization.BatchNormalization object at 0x7fe4db657a58> False\n",
            "<keras.layers.core.Activation object at 0x7fe4db66c470> False\n",
            "<keras.layers.convolutional.Conv2D object at 0x7fe4db6085c0> False\n",
            "<keras.layers.normalization.BatchNormalization object at 0x7fe4db5abe10> False\n",
            "<keras.layers.core.Activation object at 0x7fe4db5c0748> False\n",
            "<keras.layers.convolutional.Conv2D object at 0x7fe4db712d68> False\n",
            "<keras.layers.convolutional.Conv2D object at 0x7fe4db530ba8> False\n",
            "<keras.layers.normalization.BatchNormalization object at 0x7fe4db6e5c88> False\n",
            "<keras.layers.normalization.BatchNormalization object at 0x7fe4db492a20> False\n",
            "<keras.layers.core.Activation object at 0x7fe4db70e9e8> False\n",
            "<keras.layers.core.Activation object at 0x7fe4db467b70> False\n",
            "<keras.layers.merge.Concatenate object at 0x7fe4db4125c0> False\n",
            "<keras.layers.convolutional.Conv2D object at 0x7fe4db438748> False\n",
            "<keras.layers.core.Lambda object at 0x7fe4db3f5eb8> False\n",
            "<keras.layers.core.Activation object at 0x7fe4db353240> False\n",
            "<keras.layers.convolutional.Conv2D object at 0x7fe4db34d908> False\n",
            "<keras.layers.normalization.BatchNormalization object at 0x7fe4db31e588> False\n",
            "<keras.layers.core.Activation object at 0x7fe4db2c4f98> False\n",
            "<keras.layers.convolutional.Conv2D object at 0x7fe4db2742e8> False\n",
            "<keras.layers.normalization.BatchNormalization object at 0x7fe4db211908> False\n",
            "<keras.layers.core.Activation object at 0x7fe4db1c64e0> False\n",
            "<keras.layers.convolutional.Conv2D object at 0x7fe4db3535f8> False\n",
            "<keras.layers.convolutional.Conv2D object at 0x7fe4db18b8d0> False\n",
            "<keras.layers.normalization.BatchNormalization object at 0x7fe4db38af60> False\n",
            "<keras.layers.normalization.BatchNormalization object at 0x7fe4db169208> False\n",
            "<keras.layers.core.Activation object at 0x7fe4db31ef28> False\n",
            "<keras.layers.core.Activation object at 0x7fe4db1458d0> False\n",
            "<keras.layers.merge.Concatenate object at 0x7fe4db0adeb8> False\n",
            "<keras.layers.convolutional.Conv2D object at 0x7fe4db06e5c0> False\n",
            "<keras.layers.core.Lambda object at 0x7fe4db024438> False\n",
            "<keras.layers.core.Activation object at 0x7fe4dafe6860> False\n",
            "<keras.layers.convolutional.Conv2D object at 0x7fe4dafc3be0> False\n",
            "<keras.layers.normalization.BatchNormalization object at 0x7fe4daf59c50> False\n",
            "<keras.layers.core.Activation object at 0x7fe4daf28f60> False\n",
            "<keras.layers.convolutional.Conv2D object at 0x7fe4dae5c2e8> False\n",
            "<keras.layers.normalization.BatchNormalization object at 0x7fe4dae829b0> False\n",
            "<keras.layers.core.Activation object at 0x7fe4dadd4b00> False\n",
            "<keras.layers.convolutional.Conv2D object at 0x7fe4dafe6c18> False\n",
            "<keras.layers.convolutional.Conv2D object at 0x7fe4dae01550> False\n",
            "<keras.layers.normalization.BatchNormalization object at 0x7fe4dafb2908> False\n",
            "<keras.layers.normalization.BatchNormalization object at 0x7fe4dad95c18> False\n",
            "<keras.layers.core.Activation object at 0x7fe4dafc3ba8> False\n",
            "<keras.layers.core.Activation object at 0x7fe4dad477f0> False\n",
            "<keras.layers.merge.Concatenate object at 0x7fe4daceb3c8> False\n",
            "<keras.layers.convolutional.Conv2D object at 0x7fe4dad0fbe0> False\n",
            "<keras.layers.core.Lambda object at 0x7fe4dacc8a58> False\n",
            "<keras.layers.core.Activation object at 0x7fe4dac87e80> False\n",
            "<keras.layers.convolutional.Conv2D object at 0x7fe4daba2550> False\n",
            "<keras.layers.normalization.BatchNormalization object at 0x7fe4dabc4cc0> False\n",
            "<keras.layers.core.Activation object at 0x7fe4dab49f98> False\n",
            "<keras.layers.convolutional.Conv2D object at 0x7fe4daaf8860> False\n",
            "<keras.layers.normalization.BatchNormalization object at 0x7fe4dab18c50> False\n",
            "<keras.layers.core.Activation object at 0x7fe4daab3860> False\n",
            "<keras.layers.convolutional.Conv2D object at 0x7fe4dac29278> False\n",
            "<keras.layers.convolutional.Conv2D object at 0x7fe4daa23e48> False\n",
            "<keras.layers.normalization.BatchNormalization object at 0x7fe4dabdaf28> False\n",
            "<keras.layers.normalization.BatchNormalization object at 0x7fe4daa01cc0> False\n",
            "<keras.layers.core.Activation object at 0x7fe4dabeaef0> False\n",
            "<keras.layers.core.Activation object at 0x7fe4da99a6d8> False\n",
            "<keras.layers.merge.Concatenate object at 0x7fe4da987b38> False\n",
            "<keras.layers.convolutional.Conv2D object at 0x7fe4da9422e8> False\n",
            "<keras.layers.core.Lambda object at 0x7fe4da8ff160> False\n",
            "<keras.layers.core.Activation object at 0x7fe4da8bc4e0> False\n",
            "<keras.layers.convolutional.Conv2D object at 0x7fe4da81b860> False\n",
            "<keras.layers.normalization.BatchNormalization object at 0x7fe4da8338d0> False\n",
            "<keras.layers.core.Activation object at 0x7fe4da7bbe48> False\n",
            "<keras.layers.convolutional.Conv2D object at 0x7fe4da7624e0> False\n",
            "<keras.layers.normalization.BatchNormalization object at 0x7fe4da783ba8> False\n",
            "<keras.layers.core.Activation object at 0x7fe4da6b8780> False\n",
            "<keras.layers.convolutional.Conv2D object at 0x7fe4da8bc898> False\n",
            "<keras.layers.convolutional.Conv2D object at 0x7fe4da65a358> False\n",
            "<keras.layers.normalization.BatchNormalization object at 0x7fe4da887588> False\n",
            "<keras.layers.normalization.BatchNormalization object at 0x7fe4da66e898> False\n",
            "<keras.layers.core.Activation object at 0x7fe4da81b828> False\n",
            "<keras.layers.core.Activation object at 0x7fe4da59d470> False\n",
            "<keras.layers.merge.Concatenate object at 0x7fe4da562860> False\n",
            "<keras.layers.convolutional.Conv2D object at 0x7fe4da57fe80> False\n",
            "<keras.layers.core.Lambda object at 0x7fe4da51c6d8> False\n",
            "<keras.layers.core.Activation object at 0x7fe4da4dac88> False\n",
            "<keras.layers.convolutional.Conv2D object at 0x7fe4da4782b0> False\n",
            "<keras.layers.normalization.BatchNormalization object at 0x7fe4da41c978> False\n",
            "<keras.layers.core.Activation object at 0x7fe4da432f28> False\n",
            "<keras.layers.convolutional.Conv2D object at 0x7fe4da3514e0> False\n",
            "<keras.layers.normalization.BatchNormalization object at 0x7fe4da372c50> False\n",
            "<keras.layers.core.Activation object at 0x7fe4da387668> False\n",
            "<keras.layers.convolutional.Conv2D object at 0x7fe4da4dae80> False\n",
            "<keras.layers.convolutional.Conv2D object at 0x7fe4da2f5ac8> False\n",
            "<keras.layers.normalization.BatchNormalization object at 0x7fe4da4aaba8> False\n",
            "<keras.layers.normalization.BatchNormalization object at 0x7fe4da257940> False\n",
            "<keras.layers.core.Activation object at 0x7fe4da450710> False\n",
            "<keras.layers.core.Activation object at 0x7fe4da22ea90> False\n",
            "<keras.layers.merge.Concatenate object at 0x7fe4da1df4e0> False\n",
            "<keras.layers.convolutional.Conv2D object at 0x7fe4da202e80> False\n",
            "<keras.layers.core.Lambda object at 0x7fe4da1f0358> False\n",
            "<keras.layers.core.Activation object at 0x7fe4da120780> False\n",
            "<keras.layers.convolutional.Conv2D object at 0x7fe4da096828> False\n",
            "<keras.layers.normalization.BatchNormalization object at 0x7fe4da0f04a8> False\n",
            "<keras.layers.core.Activation object at 0x7fe4da03def0> False\n",
            "<keras.layers.convolutional.Conv2D object at 0x7fe4d9fe0828> False\n",
            "<keras.layers.normalization.BatchNormalization object at 0x7fe4da010f98> False\n",
            "<keras.layers.core.Activation object at 0x7fe4d9f8c400> False\n",
            "<keras.layers.convolutional.Conv2D object at 0x7fe4da1204e0> False\n",
            "<keras.layers.convolutional.Conv2D object at 0x7fe4d9f4f7f0> False\n",
            "<keras.layers.normalization.BatchNormalization object at 0x7fe4da0dcef0> False\n",
            "<keras.layers.normalization.BatchNormalization object at 0x7fe4d9f2def0> False\n",
            "<keras.layers.core.Activation object at 0x7fe4da0f0f98> False\n",
            "<keras.layers.core.Activation object at 0x7fe4d9f0a7f0> False\n",
            "<keras.layers.merge.Concatenate object at 0x7fe4d9e79dd8> False\n",
            "<keras.layers.convolutional.Conv2D object at 0x7fe4d9e374e0> False\n",
            "<keras.layers.core.Lambda object at 0x7fe4d9def358> False\n",
            "<keras.layers.core.Activation object at 0x7fe4d9dae780> False\n",
            "<keras.layers.convolutional.Conv2D object at 0x7fe4d9d8eb00> False\n",
            "<keras.layers.normalization.BatchNormalization object at 0x7fe4d9d26b70> False\n",
            "<keras.layers.core.Activation object at 0x7fe4d9cf2ef0> False\n",
            "<keras.layers.convolutional.Conv2D object at 0x7fe4d9c8db38> False\n",
            "<keras.layers.normalization.BatchNormalization object at 0x7fe4d9c492b0> False\n",
            "<keras.layers.core.Activation object at 0x7fe4d9b9ea20> False\n",
            "<keras.layers.convolutional.Conv2D object at 0x7fe4d9daeb38> False\n",
            "<keras.layers.convolutional.Conv2D object at 0x7fe4d9bcc470> False\n",
            "<keras.layers.normalization.BatchNormalization object at 0x7fe4d9d7d828> False\n",
            "<keras.layers.normalization.BatchNormalization object at 0x7fe4d9b5eb38> False\n",
            "<keras.layers.core.Activation object at 0x7fe4d9d8eac8> False\n",
            "<keras.layers.core.Activation object at 0x7fe4d9b0d710> False\n",
            "<keras.layers.merge.Concatenate object at 0x7fe4d9ac3828> False\n",
            "<keras.layers.convolutional.Conv2D object at 0x7fe4d9a50b00> False\n",
            "<keras.layers.core.Lambda object at 0x7fe4d9a8d978> False\n",
            "<keras.layers.core.Activation object at 0x7fe4d9a4bda0> False\n",
            "<keras.layers.convolutional.Conv2D object at 0x7fe4d996b4a8> False\n",
            "<keras.layers.normalization.BatchNormalization object at 0x7fe4d998dc18> False\n",
            "<keras.layers.core.Activation object at 0x7fe4d9923630> False\n",
            "<keras.layers.convolutional.Conv2D object at 0x7fe4d98c3780> False\n",
            "<keras.layers.normalization.BatchNormalization object at 0x7fe4d98e4b70> False\n",
            "<keras.layers.core.Activation object at 0x7fe4d987d780> False\n",
            "<keras.layers.convolutional.Conv2D object at 0x7fe4d99f4198> False\n",
            "<keras.layers.convolutional.Conv2D object at 0x7fe4d97edd68> False\n",
            "<keras.layers.normalization.BatchNormalization object at 0x7fe4d99a2e48> False\n",
            "<keras.layers.normalization.BatchNormalization object at 0x7fe4d97cabe0> False\n",
            "<keras.layers.core.Activation object at 0x7fe4d99afe10> False\n",
            "<keras.layers.core.Activation object at 0x7fe4d97605f8> False\n",
            "<keras.layers.merge.Concatenate object at 0x7fe4d974da58> False\n",
            "<keras.layers.convolutional.Conv2D object at 0x7fe4d96f6b38> False\n",
            "<keras.layers.core.Lambda object at 0x7fe4d96c90f0> False\n",
            "<keras.layers.core.Activation object at 0x7fe4d9686400> False\n",
            "<keras.layers.convolutional.Conv2D object at 0x7fe4d960aac8> False\n",
            "<keras.layers.normalization.BatchNormalization object at 0x7fe4d95e4780> False\n",
            "<keras.layers.core.Activation object at 0x7fe4d9582d68> False\n",
            "<keras.layers.convolutional.Conv2D object at 0x7fe4d9528400> False\n",
            "<keras.layers.normalization.BatchNormalization object at 0x7fe4d954aac8> False\n",
            "<keras.layers.core.Activation object at 0x7fe4d94806a0> False\n",
            "<keras.layers.convolutional.Conv2D object at 0x7fe4d96867b8> False\n",
            "<keras.layers.convolutional.Conv2D object at 0x7fe4d9446a90> False\n",
            "<keras.layers.normalization.BatchNormalization object at 0x7fe4d95d04a8> False\n",
            "<keras.layers.normalization.BatchNormalization object at 0x7fe4d9421f98> False\n",
            "<keras.layers.core.Activation object at 0x7fe4d95e42b0> False\n",
            "<keras.layers.core.Activation object at 0x7fe4d93c1f98> False\n",
            "<keras.layers.merge.Concatenate object at 0x7fe4d936c198> False\n",
            "<keras.layers.convolutional.Conv2D object at 0x7fe4d9328780> False\n",
            "<keras.layers.core.Lambda object at 0x7fe4d92e35f8> False\n",
            "<keras.layers.core.Activation object at 0x7fe4d92a0ba8> False\n",
            "<keras.layers.convolutional.Conv2D object at 0x7fe4d9228b00> False\n",
            "<keras.layers.normalization.BatchNormalization object at 0x7fe4d91e7278> False\n",
            "<keras.layers.core.Activation object at 0x7fe4d9200358> False\n",
            "<keras.layers.convolutional.Conv2D object at 0x7fe4d9117400> False\n",
            "<keras.layers.normalization.BatchNormalization object at 0x7fe4d913bb70> False\n",
            "<keras.layers.core.Activation object at 0x7fe4d90d2588> False\n",
            "<keras.layers.convolutional.Conv2D object at 0x7fe4d92a0da0> False\n",
            "<keras.layers.convolutional.Conv2D object at 0x7fe4d90be9e8> False\n",
            "<keras.layers.normalization.BatchNormalization object at 0x7fe4d9272ac8> False\n",
            "<keras.layers.normalization.BatchNormalization object at 0x7fe4d9021240> False\n",
            "<keras.layers.core.Activation object at 0x7fe4d921a630> False\n",
            "<keras.layers.core.Activation object at 0x7fe4d90039b0> False\n",
            "<keras.layers.merge.Concatenate object at 0x7fe4d8fa6400> False\n",
            "<keras.layers.convolutional.Conv2D object at 0x7fe4d8fccda0> False\n",
            "<keras.layers.core.Lambda object at 0x7fe4d8fb7278> False\n",
            "<keras.layers.core.Activation object at 0x7fe4d8ee56a0> False\n",
            "<keras.layers.convolutional.Conv2D object at 0x7fe4d8e5c748> False\n",
            "<keras.layers.normalization.BatchNormalization object at 0x7fe4d8eb73c8> False\n",
            "<keras.layers.core.Activation object at 0x7fe4d8e06f28> False\n",
            "<keras.layers.convolutional.Conv2D object at 0x7fe4d8dbaa20> False\n",
            "<keras.layers.normalization.BatchNormalization object at 0x7fe4d8dd2dd8> False\n",
            "<keras.layers.core.Activation object at 0x7fe4d8d32f28> False\n",
            "<keras.layers.convolutional.Conv2D object at 0x7fe4d8ee5400> False\n",
            "<keras.layers.convolutional.Conv2D object at 0x7fe4d8ce03c8> False\n",
            "<keras.layers.normalization.BatchNormalization object at 0x7fe4d8e98d68> False\n",
            "<keras.layers.normalization.BatchNormalization object at 0x7fe4d8cf8e80> False\n",
            "<keras.layers.core.Activation object at 0x7fe4d8ea2c50> False\n",
            "<keras.layers.core.Activation object at 0x7fe4d8c55710> False\n",
            "<keras.layers.merge.Concatenate object at 0x7fe4d8c42cf8> False\n",
            "<keras.layers.convolutional.Conv2D object at 0x7fe4d8bfd400> False\n",
            "<keras.layers.core.Lambda object at 0x7fe4d8bb7278> False\n",
            "<keras.layers.core.Activation object at 0x7fe4d8f830b8> False\n",
            "<keras.layers.convolutional.Conv2D object at 0x7fe4d8815a20> False\n",
            "<keras.layers.normalization.BatchNormalization object at 0x7fe4d886ff28> False\n",
            "<keras.layers.core.Activation object at 0x7fe4d880bf28> False\n",
            "<keras.layers.convolutional.Conv2D object at 0x7fe4d8b42ef0> False\n",
            "<keras.layers.convolutional.Conv2D object at 0x7fe4d89dda90> False\n",
            "<keras.layers.convolutional.Conv2D object at 0x7fe4d87b7320> False\n",
            "<keras.layers.normalization.BatchNormalization object at 0x7fe4d8b756a0> False\n",
            "<keras.layers.normalization.BatchNormalization object at 0x7fe4d8a3cf98> False\n",
            "<keras.layers.normalization.BatchNormalization object at 0x7fe4d87519e8> False\n",
            "<keras.layers.core.Activation object at 0x7fe4d8ad6940> False\n",
            "<keras.layers.core.Activation object at 0x7fe4d8953f98> False\n",
            "<keras.layers.core.Activation object at 0x7fe4d87085c0> False\n",
            "<keras.layers.convolutional.Conv2D object at 0x7fe4d8ad6978> False\n",
            "<keras.layers.convolutional.Conv2D object at 0x7fe4d8983390> False\n",
            "<keras.layers.convolutional.Conv2D object at 0x7fe4d86ca9b0> False\n",
            "<keras.layers.normalization.BatchNormalization object at 0x7fe4d8ae89e8> False\n",
            "<keras.layers.normalization.BatchNormalization object at 0x7fe4d891ca58> False\n",
            "<keras.layers.normalization.BatchNormalization object at 0x7fe4d86a6e48> False\n",
            "<keras.layers.core.Activation object at 0x7fe4d8a176a0> False\n",
            "<keras.layers.core.Activation object at 0x7fe4d88cf630> False\n",
            "<keras.layers.core.Activation object at 0x7fe4d8607dd8> False\n",
            "<keras.layers.pooling.MaxPooling2D object at 0x7fe4d86849b0> False\n",
            "<keras.layers.merge.Concatenate object at 0x7fe4d85edf98> False\n",
            "<keras.layers.convolutional.Conv2D object at 0x7fe4d84ee358> False\n",
            "<keras.layers.normalization.BatchNormalization object at 0x7fe4d84f4ac8> False\n",
            "<keras.layers.core.Activation object at 0x7fe4d84c23c8> False\n",
            "<keras.layers.convolutional.Conv2D object at 0x7fe4d83deda0> False\n",
            "<keras.layers.normalization.BatchNormalization object at 0x7fe4d8423470> False\n",
            "<keras.layers.core.Activation object at 0x7fe4d8379940> False\n",
            "<keras.layers.convolutional.Conv2D object at 0x7fe4d85cdc18> False\n",
            "<keras.layers.convolutional.Conv2D object at 0x7fe4d831d390> False\n",
            "<keras.layers.normalization.BatchNormalization object at 0x7fe4d8561518> False\n",
            "<keras.layers.normalization.BatchNormalization object at 0x7fe4d832fa58> False\n",
            "<keras.layers.core.Activation object at 0x7fe4d84d1898> False\n",
            "<keras.layers.core.Activation object at 0x7fe4d825f630> False\n",
            "<keras.layers.merge.Concatenate object at 0x7fe4d8223a20> False\n",
            "<keras.layers.convolutional.Conv2D object at 0x7fe4d8246b70> False\n",
            "<keras.layers.core.Lambda object at 0x7fe4d81df898> False\n",
            "<keras.layers.core.Activation object at 0x7fe4d81cdeb8> False\n",
            "<keras.layers.convolutional.Conv2D object at 0x7fe4d813e3c8> False\n",
            "<keras.layers.normalization.BatchNormalization object at 0x7fe4d80dfb70> False\n",
            "<keras.layers.core.Activation object at 0x7fe4d80f7588> False\n",
            "<keras.layers.convolutional.Conv2D object at 0x7fe4d80176a0> False\n",
            "<keras.layers.normalization.BatchNormalization object at 0x7fe4d80b7a90> False\n",
            "<keras.layers.core.Activation object at 0x7fe4d7fd06a0> False\n",
            "<keras.layers.convolutional.Conv2D object at 0x7fe4d819df28> False\n",
            "<keras.layers.convolutional.Conv2D object at 0x7fe4d7fc0c88> False\n",
            "<keras.layers.normalization.BatchNormalization object at 0x7fe4d8173d68> False\n",
            "<keras.layers.normalization.BatchNormalization object at 0x7fe4d7f1cb00> False\n",
            "<keras.layers.core.Activation object at 0x7fe4d8180d30> False\n",
            "<keras.layers.core.Activation object at 0x7fe4d7f37518> False\n",
            "<keras.layers.merge.Concatenate object at 0x7fe4d7ec5da0> False\n",
            "<keras.layers.convolutional.Conv2D object at 0x7fe4d7e9f978> False\n",
            "<keras.layers.core.Lambda object at 0x7fe4d7e83f28> False\n",
            "<keras.layers.core.Activation object at 0x7fe4d7d9afd0> False\n",
            "<keras.layers.convolutional.Conv2D object at 0x7fe4d7d5e9e8> False\n",
            "<keras.layers.normalization.BatchNormalization object at 0x7fe4d7db7668> False\n",
            "<keras.layers.core.Activation object at 0x7fe4d7cd6f60> False\n",
            "<keras.layers.convolutional.Conv2D object at 0x7fe4d7d01320> False\n",
            "<keras.layers.normalization.BatchNormalization object at 0x7fe4d7c9c9e8> False\n",
            "<keras.layers.core.Activation object at 0x7fe4d7bd55c0> False\n",
            "<keras.layers.convolutional.Conv2D object at 0x7fe4d7da23c8> False\n",
            "<keras.layers.convolutional.Conv2D object at 0x7fe4d7b999b0> False\n",
            "<keras.layers.normalization.BatchNormalization object at 0x7fe4d7ddf320> False\n",
            "<keras.layers.normalization.BatchNormalization object at 0x7fe4d7bf3e48> False\n",
            "<keras.layers.core.Activation object at 0x7fe4d7db7748> False\n",
            "<keras.layers.core.Activation object at 0x7fe4d7ad8dd8> False\n",
            "<keras.layers.merge.Concatenate object at 0x7fe4d7af66a0> False\n",
            "<keras.layers.convolutional.Conv2D object at 0x7fe4d7b539b0> False\n",
            "<keras.layers.core.Lambda object at 0x7fe4d7ab0518> False\n",
            "<keras.layers.core.Activation object at 0x7fe4d7a6f940> False\n",
            "<keras.layers.convolutional.Conv2D object at 0x7fe4d79fa7b8> False\n",
            "<keras.layers.normalization.BatchNormalization object at 0x7fe4d79d1c88> False\n",
            "<keras.layers.core.Activation object at 0x7fe4d79b6e80> False\n",
            "<keras.layers.convolutional.Conv2D object at 0x7fe4d78d6a58> False\n",
            "<keras.layers.normalization.BatchNormalization object at 0x7fe4d790fa90> False\n",
            "<keras.layers.core.Activation object at 0x7fe4d78a74a8> False\n",
            "<keras.layers.convolutional.Conv2D object at 0x7fe4d7a6fcf8> False\n",
            "<keras.layers.convolutional.Conv2D object at 0x7fe4d7812908> False\n",
            "<keras.layers.normalization.BatchNormalization object at 0x7fe4d7a419e8> False\n",
            "<keras.layers.normalization.BatchNormalization object at 0x7fe4d7861748> False\n",
            "<keras.layers.core.Activation object at 0x7fe4d79e9f28> False\n",
            "<keras.layers.core.Activation object at 0x7fe4d77528d0> False\n",
            "<keras.layers.merge.Concatenate object at 0x7fe4d771ccc0> False\n",
            "<keras.layers.convolutional.Conv2D object at 0x7fe4d77764a8> False\n",
            "<keras.layers.core.Lambda object at 0x7fe4d76d6b38> False\n",
            "<keras.layers.core.Activation object at 0x7fe4d76ba5c0> False\n",
            "<keras.layers.convolutional.Conv2D object at 0x7fe4d762f668> False\n",
            "<keras.layers.normalization.BatchNormalization object at 0x7fe4d768c2e8> False\n",
            "<keras.layers.core.Activation object at 0x7fe4d75eb7f0> False\n",
            "<keras.layers.convolutional.Conv2D object at 0x7fe4d7587940> False\n",
            "<keras.layers.normalization.BatchNormalization object at 0x7fe4d75a6d30> False\n",
            "<keras.layers.core.Activation object at 0x7fe4d7541940> False\n",
            "<keras.layers.convolutional.Conv2D object at 0x7fe4d76ba320> False\n",
            "<keras.layers.convolutional.Conv2D object at 0x7fe4d74adf28> False\n",
            "<keras.layers.normalization.BatchNormalization object at 0x7fe4d766ac88> False\n",
            "<keras.layers.normalization.BatchNormalization object at 0x7fe4d7411f98> False\n",
            "<keras.layers.core.Activation object at 0x7fe4d7679fd0> False\n",
            "<keras.layers.core.Activation object at 0x7fe4d74267b8> False\n",
            "<keras.layers.merge.Concatenate object at 0x7fe4d73b8a58> False\n",
            "<keras.layers.convolutional.Conv2D object at 0x7fe4d7394c18> False\n",
            "<keras.layers.core.Lambda object at 0x7fe4d738c240> False\n",
            "<keras.layers.core.Activation object at 0x7fe4d73465c0> False\n",
            "<keras.layers.convolutional.Conv2D object at 0x7fe4d72a9940> False\n",
            "<keras.layers.normalization.BatchNormalization object at 0x7fe4d72bd9b0> False\n",
            "<keras.layers.core.Activation object at 0x7fe4d7246dd8> False\n",
            "<keras.layers.convolutional.Conv2D object at 0x7fe4d71ee5c0> False\n",
            "<keras.layers.normalization.BatchNormalization object at 0x7fe4d720deb8> False\n",
            "<keras.layers.core.Activation object at 0x7fe4d7146860> False\n",
            "<keras.layers.convolutional.Conv2D object at 0x7fe4d7346978> False\n",
            "<keras.layers.convolutional.Conv2D object at 0x7fe4d70e8438> False\n",
            "<keras.layers.normalization.BatchNormalization object at 0x7fe4d7293668> False\n",
            "<keras.layers.normalization.BatchNormalization object at 0x7fe4d70fd978> False\n",
            "<keras.layers.core.Activation object at 0x7fe4d72a9908> False\n",
            "<keras.layers.core.Activation object at 0x7fe4d702c550> False\n",
            "<keras.layers.merge.Concatenate object at 0x7fe4d6ff1940> False\n",
            "<keras.layers.convolutional.Conv2D object at 0x7fe4d6f90a90> False\n",
            "<keras.layers.core.Lambda object at 0x7fe4d6faa7b8> False\n",
            "<keras.layers.core.Activation object at 0x7fe4d6f67fd0> False\n",
            "<keras.layers.convolutional.Conv2D object at 0x7fe4d6ef3a20> False\n",
            "<keras.layers.normalization.BatchNormalization object at 0x7fe4d6eafa58> False\n",
            "<keras.layers.core.Activation object at 0x7fe4d6ec2470> False\n",
            "<keras.layers.convolutional.Conv2D object at 0x7fe4d6de05c0> False\n",
            "<keras.layers.normalization.BatchNormalization object at 0x7fe4d6e03e10> False\n",
            "<keras.layers.core.Activation object at 0x7fe4d6d98748> False\n",
            "<keras.layers.convolutional.Conv2D object at 0x7fe4d6f67d68> False\n",
            "<keras.layers.convolutional.Conv2D object at 0x7fe4d6d87ba8> False\n",
            "<keras.layers.normalization.BatchNormalization object at 0x7fe4d6f3ac88> False\n",
            "<keras.layers.normalization.BatchNormalization object at 0x7fe4d6ceaa20> False\n",
            "<keras.layers.core.Activation object at 0x7fe4d6ee29e8> False\n",
            "<keras.layers.core.Activation object at 0x7fe4d6cc0b70> False\n",
            "<keras.layers.merge.Concatenate object at 0x7fe4d6c8d748> False\n",
            "<keras.layers.convolutional.Conv2D object at 0x7fe4d6c685c0> False\n",
            "<keras.layers.core.Lambda object at 0x7fe4d6c4deb8> False\n",
            "<keras.layers.core.Activation object at 0x7fe4d6bab240> False\n",
            "<keras.layers.convolutional.Conv2D object at 0x7fe4d6b23908> False\n",
            "<keras.layers.normalization.BatchNormalization object at 0x7fe4d6b7f588> False\n",
            "<keras.layers.core.Activation object at 0x7fe4d6a9df98> False\n",
            "<keras.layers.convolutional.Conv2D object at 0x7fe4d6ac92e8> False\n",
            "<keras.layers.normalization.BatchNormalization object at 0x7fe4d6a63908> False\n",
            "<keras.layers.core.Activation object at 0x7fe4d69994e0> False\n",
            "<keras.layers.convolutional.Conv2D object at 0x7fe4d6bab5f8> False\n",
            "<keras.layers.convolutional.Conv2D object at 0x7fe4d69618d0> False\n",
            "<keras.layers.normalization.BatchNormalization object at 0x7fe4d6bc8f60> False\n",
            "<keras.layers.normalization.BatchNormalization object at 0x7fe4d69c0208> False\n",
            "<keras.layers.core.Activation object at 0x7fe4d6b7ff28> False\n",
            "<keras.layers.core.Activation object at 0x7fe4d691a8d0> False\n",
            "<keras.layers.merge.Concatenate object at 0x7fe4d68c55c0> False\n",
            "<keras.layers.convolutional.Conv2D object at 0x7fe4d690aeb8> False\n",
            "<keras.layers.core.Lambda object at 0x7fe4d687d438> False\n",
            "<keras.layers.core.Activation object at 0x7fe4d683d860> False\n",
            "<keras.layers.convolutional.Conv2D object at 0x7fe4d6799be0> False\n",
            "<keras.layers.normalization.BatchNormalization object at 0x7fe4d67b0c50> False\n",
            "<keras.layers.core.Activation object at 0x7fe4d6780f60> False\n",
            "<keras.layers.convolutional.Conv2D object at 0x7fe4d66b32e8> False\n",
            "<keras.layers.normalization.BatchNormalization object at 0x7fe4d665c9b0> False\n",
            "<keras.layers.core.Activation object at 0x7fe4d662db00> False\n",
            "<keras.layers.convolutional.Conv2D object at 0x7fe4d683dc18> False\n",
            "<keras.layers.convolutional.Conv2D object at 0x7fe4d65d9550> False\n",
            "<keras.layers.normalization.BatchNormalization object at 0x7fe4d6809908> False\n",
            "<keras.layers.normalization.BatchNormalization object at 0x7fe4d65f0c18> False\n",
            "<keras.layers.core.Activation object at 0x7fe4d6799ba8> False\n",
            "<keras.layers.core.Activation object at 0x7fe4d651b7f0> False\n",
            "<keras.layers.merge.Concatenate object at 0x7fe4d64e2be0> False\n",
            "<keras.layers.convolutional.Conv2D object at 0x7fe4d653e3c8> False\n",
            "<keras.layers.core.Lambda object at 0x7fe4d649ba58> False\n",
            "<keras.layers.core.Activation object at 0x7fe4d645be80> False\n",
            "<keras.layers.convolutional.Conv2D object at 0x7fe4d63f8588> False\n",
            "<keras.layers.normalization.BatchNormalization object at 0x7fe4d639ddd8> False\n",
            "<keras.layers.core.Activation object at 0x7fe4d63b1710> False\n",
            "<keras.layers.convolutional.Conv2D object at 0x7fe4d62d1860> False\n",
            "<keras.layers.normalization.BatchNormalization object at 0x7fe4d6370c50> False\n",
            "<keras.layers.core.Activation object at 0x7fe4d630a6d8> False\n",
            "<keras.layers.convolutional.Conv2D object at 0x7fe4d6480278> False\n",
            "<keras.layers.convolutional.Conv2D object at 0x7fe4d6277e48> False\n",
            "<keras.layers.normalization.BatchNormalization object at 0x7fe4d6431f28> False\n",
            "<keras.layers.normalization.BatchNormalization object at 0x7fe4d61d9cc0> False\n",
            "<keras.layers.core.Activation object at 0x7fe4d643def0> False\n",
            "<keras.layers.core.Activation object at 0x7fe4d61ee6d8> False\n",
            "<keras.layers.merge.Concatenate object at 0x7fe4d61182e8> False\n",
            "<keras.layers.convolutional.Conv2D object at 0x7fe4d615cb38> False\n",
            "<keras.layers.core.Lambda object at 0x7fe4d60d2160> True\n",
            "<keras.layers.convolutional.Conv2D object at 0x7fe4d61074e0> True\n",
            "<keras.layers.normalization.BatchNormalization object at 0x7fe4d6107b00> True\n",
            "<keras.layers.core.Activation object at 0x7fe4d6074f98> True\n"
          ],
          "name": "stdout"
        }
      ]
    },
    {
      "metadata": {
        "id": "74hwrfbqzE6V",
        "colab_type": "text"
      },
      "cell_type": "markdown",
      "source": [
        "# Modifiying Model"
      ]
    },
    {
      "metadata": {
        "id": "H7DsLlw5QZn0",
        "colab_type": "code",
        "colab": {
          "autoexec": {
            "startup": false,
            "wait_interval": 0
          },
          "base_uri": "https://localhost:8080/",
          "height": 323
        },
        "outputId": "92ff81ca-7c88-490c-b834-eece077c6b79",
        "executionInfo": {
          "status": "ok",
          "timestamp": 1527472184424,
          "user_tz": 180,
          "elapsed": 56454,
          "user": {
            "displayName": "Osvaldo Xavier",
            "photoUrl": "//lh3.googleusercontent.com/-zybdqkQ08DI/AAAAAAAAAAI/AAAAAAAAAwA/gvGq15lUM1o/s50-c-k-no/photo.jpg",
            "userId": "109704789053915160529"
          }
        }
      },
      "cell_type": "code",
      "source": [
        "# Create the model\n",
        "model = models.Sequential()\n",
        " \n",
        "# Add the vgg convolutional base model\n",
        "model.add(incept_v2)\n",
        "\n",
        "# Add new layers\n",
        "model.add(layers.Flatten())\n",
        "model.add(layers.Dense(1024, activation='relu'))\n",
        "model.add(layers.Dropout(0.5))\n",
        "model.add(layers.Dense(83, activation='softmax'))\n",
        " \n",
        "# Show a summary of the model. Check the number of trainable parameters\n",
        "model.summary()"
      ],
      "execution_count": 83,
      "outputs": [
        {
          "output_type": "stream",
          "text": [
            "_________________________________________________________________\n",
            "Layer (type)                 Output Shape              Param #   \n",
            "=================================================================\n",
            "inception_resnet_v2 (Model)  (None, 8, 8, 1536)        54336736  \n",
            "_________________________________________________________________\n",
            "flatten_7 (Flatten)          (None, 98304)             0         \n",
            "_________________________________________________________________\n",
            "dense_11 (Dense)             (None, 1024)              100664320 \n",
            "_________________________________________________________________\n",
            "dropout_6 (Dropout)          (None, 1024)              0         \n",
            "_________________________________________________________________\n",
            "dense_12 (Dense)             (None, 83)                85075     \n",
            "=================================================================\n",
            "Total params: 155,086,131\n",
            "Trainable params: 103,945,811\n",
            "Non-trainable params: 51,140,320\n",
            "_________________________________________________________________\n"
          ],
          "name": "stdout"
        }
      ]
    },
    {
      "metadata": {
        "id": "jXOLSSqCCSS5",
        "colab_type": "text"
      },
      "cell_type": "markdown",
      "source": [
        ""
      ]
    },
    {
      "metadata": {
        "id": "gsPyathoCUKH",
        "colab_type": "code",
        "colab": {
          "autoexec": {
            "startup": false,
            "wait_interval": 0
          },
          "base_uri": "https://localhost:8080/",
          "height": 244
        },
        "outputId": "2c24906f-ff37-4b13-9f7c-09906be815b1",
        "executionInfo": {
          "status": "error",
          "timestamp": 1527385684183,
          "user_tz": 180,
          "elapsed": 602,
          "user": {
            "displayName": "Osvaldo Xavier",
            "photoUrl": "//lh3.googleusercontent.com/-zybdqkQ08DI/AAAAAAAAAAI/AAAAAAAAAwA/gvGq15lUM1o/s50-c-k-no/photo.jpg",
            "userId": "109704789053915160529"
          }
        }
      },
      "cell_type": "code",
      "source": [
        "class TensorBoardWrapper(TensorBoard):\n",
        "    '''Sets the self.validation_data property for use with TensorBoard callback.'''\n",
        "\n",
        "    def __init__(self, batch_gen, nb_steps, **kwargs):\n",
        "        super().__init__(**kwargs)\n",
        "        self.batch_gen = batch_gen # The generator.\n",
        "        self.nb_steps = nb_steps     # Number of times to call next() on the generator.\n",
        "\n",
        "    def on_epoch_end(self, epoch, logs):\n",
        "        # Fill in the `validation_data` property. Obviously this is specific to how your generator works.\n",
        "        # Below is an example that yields images and classification tags.\n",
        "        # After it's filled in, the regular on_epoch_end method has access to the validation_data.\n",
        "        imgs, tags = None, None\n",
        "        for s in range(self.nb_steps):\n",
        "            ib, tb = next(self.batch_gen)\n",
        "            if imgs is None and tags is None:\n",
        "                imgs = np.zeros((self.nb_steps * ib.shape[0], *ib.shape[1:]), dtype=np.float32)\n",
        "                tags = np.zeros((self.nb_steps * tb.shape[0], *tb.shape[1:]), dtype=np.uint8)\n",
        "            imgs[s * ib.shape[0]:(s + 1) * ib.shape[0]] = ib\n",
        "            tags[s * tb.shape[0]:(s + 1) * tb.shape[0]] = tb\n",
        "        self.validation_data = [imgs, tags, np.ones(imgs.shape[0]), 0.0]\n",
        "        return super().on_epoch_end(epoch, logs)\n",
        "\n",
        "\n",
        "from keras.callbacks import Callback\n",
        "from sklearn.metrics import confusion_matrix, f1_score, precision_score, recall_score\n",
        "class Metrics(Callback):\n",
        "  def on_train_begin(self, logs={}):\n",
        "   self.val_f1s = []\n",
        "   self.val_recalls = []\n",
        "   self.val_precisions = []\n",
        "\n",
        "  def on_epoch_end(self, epoch, logs={}):\n",
        "   val_predict = (np.asarray(self.model.predict(self.model.validation_data[0]))).round()\n",
        "   val_targ = self.model.validation_data[1]\n",
        "   _val_f1 = f1_score(val_targ, val_predict)\n",
        "   _val_recall = recall_score(val_targ, val_predict)\n",
        "   _val_precision = precision_score(val_targ, val_predict)\n",
        "   self.val_f1s.append(_val_f1)\n",
        "   self.val_recalls.append(_val_recall)\n",
        "   self.val_precisions.append(_val_precision)\n",
        "   print('— val_f1: %f — val_precision: %f — val_recall %f'%(_val_f1, _val_precision, _val_recall))\n",
        "   return\n",
        " \n",
        "metrics = Metrics()"
      ],
      "execution_count": 74,
      "outputs": [
        {
          "output_type": "error",
          "ename": "NameError",
          "evalue": "ignored",
          "traceback": [
            "\u001b[0;31m---------------------------------------------------------------------------\u001b[0m",
            "\u001b[0;31mNameError\u001b[0m                                 Traceback (most recent call last)",
            "\u001b[0;32m<ipython-input-74-ff83b3cd1047>\u001b[0m in \u001b[0;36m<module>\u001b[0;34m()\u001b[0m\n\u001b[0;32m----> 1\u001b[0;31m \u001b[0;32mclass\u001b[0m \u001b[0mTensorBoardWrapper\u001b[0m\u001b[0;34m(\u001b[0m\u001b[0mTensorBoard\u001b[0m\u001b[0;34m)\u001b[0m\u001b[0;34m:\u001b[0m\u001b[0;34m\u001b[0m\u001b[0m\n\u001b[0m\u001b[1;32m      2\u001b[0m     \u001b[0;34m'''Sets the self.validation_data property for use with TensorBoard callback.'''\u001b[0m\u001b[0;34m\u001b[0m\u001b[0m\n\u001b[1;32m      3\u001b[0m \u001b[0;34m\u001b[0m\u001b[0m\n\u001b[1;32m      4\u001b[0m     \u001b[0;32mdef\u001b[0m \u001b[0m__init__\u001b[0m\u001b[0;34m(\u001b[0m\u001b[0mself\u001b[0m\u001b[0;34m,\u001b[0m \u001b[0mbatch_gen\u001b[0m\u001b[0;34m,\u001b[0m \u001b[0mnb_steps\u001b[0m\u001b[0;34m,\u001b[0m \u001b[0;34m**\u001b[0m\u001b[0mkwargs\u001b[0m\u001b[0;34m)\u001b[0m\u001b[0;34m:\u001b[0m\u001b[0;34m\u001b[0m\u001b[0m\n\u001b[1;32m      5\u001b[0m         \u001b[0msuper\u001b[0m\u001b[0;34m(\u001b[0m\u001b[0;34m)\u001b[0m\u001b[0;34m.\u001b[0m\u001b[0m__init__\u001b[0m\u001b[0;34m(\u001b[0m\u001b[0;34m**\u001b[0m\u001b[0mkwargs\u001b[0m\u001b[0;34m)\u001b[0m\u001b[0;34m\u001b[0m\u001b[0m\n",
            "\u001b[0;31mNameError\u001b[0m: name 'TensorBoard' is not defined"
          ]
        }
      ]
    },
    {
      "metadata": {
        "id": "n24_9rPIzb5g",
        "colab_type": "text"
      },
      "cell_type": "markdown",
      "source": [
        "# Generating Validation and Training Set"
      ]
    },
    {
      "metadata": {
        "id": "oPgvnTZCPgxp",
        "colab_type": "code",
        "colab": {
          "autoexec": {
            "startup": false,
            "wait_interval": 0
          },
          "base_uri": "https://localhost:8080/",
          "height": 53
        },
        "outputId": "3ea26d34-8dec-47c7-a741-5507696f30d4",
        "executionInfo": {
          "status": "ok",
          "timestamp": 1527465695785,
          "user_tz": 180,
          "elapsed": 2282,
          "user": {
            "displayName": "Osvaldo Xavier",
            "photoUrl": "//lh3.googleusercontent.com/-zybdqkQ08DI/AAAAAAAAAAI/AAAAAAAAAwA/gvGq15lUM1o/s50-c-k-no/photo.jpg",
            "userId": "109704789053915160529"
          }
        }
      },
      "cell_type": "code",
      "source": [
        "train_dir = 'MO444_dogs/train/'\n",
        "validation_dir = 'MO444_dogs/val/'\n",
        "\n",
        "image_size = (299, 299)\n",
        "\n",
        "train_datagen = ImageDataGenerator(\n",
        "      rescale=1./255,\n",
        "      rotation_range=20,\n",
        "      width_shift_range=0.2,\n",
        "      height_shift_range=0.2,\n",
        "      horizontal_flip=True,\n",
        "      fill_mode='nearest')\n",
        " \n",
        "validation_datagen = ImageDataGenerator(rescale=1./255)\n",
        " \n",
        "\n",
        "train_batchsize = 10\n",
        "val_batchsize = 10\n",
        " \n",
        "train_generator = train_datagen.flow_from_directory(\n",
        "        train_dir,\n",
        "        target_size=image_size,\n",
        "        batch_size=train_batchsize,\n",
        "        class_mode='categorical')\n",
        " \n",
        "validation_generator = validation_datagen.flow_from_directory(\n",
        "        validation_dir,\n",
        "        target_size=image_size,\n",
        "        batch_size=val_batchsize,\n",
        "        class_mode='categorical',\n",
        "        shuffle=False)"
      ],
      "execution_count": 74,
      "outputs": [
        {
          "output_type": "stream",
          "text": [
            "Found 8300 images belonging to 83 classes.\n",
            "Found 6022 images belonging to 83 classes.\n"
          ],
          "name": "stdout"
        }
      ]
    },
    {
      "metadata": {
        "id": "pCvEUKK_ztO3",
        "colab_type": "text"
      },
      "cell_type": "markdown",
      "source": [
        "# Compiling the model"
      ]
    },
    {
      "metadata": {
        "id": "CMid3msqRoOQ",
        "colab_type": "code",
        "colab": {
          "autoexec": {
            "startup": false,
            "wait_interval": 0
          },
          "base_uri": "https://localhost:8080/",
          "height": 127
        },
        "outputId": "926095e9-b1d3-487b-bfbf-a0a47f96ad29",
        "executionInfo": {
          "status": "ok",
          "timestamp": 1527473362229,
          "user_tz": 180,
          "elapsed": 1177702,
          "user": {
            "displayName": "Osvaldo Xavier",
            "photoUrl": "//lh3.googleusercontent.com/-zybdqkQ08DI/AAAAAAAAAAI/AAAAAAAAAwA/gvGq15lUM1o/s50-c-k-no/photo.jpg",
            "userId": "109704789053915160529"
          }
        }
      },
      "cell_type": "code",
      "source": [
        "# Compile the model\n",
        "model.compile(loss='categorical_crossentropy',\n",
        "              optimizer=optimizers.RMSprop(lr=1e-4),\n",
        "              metrics=['acc'])\n",
        "# Train the model\n",
        "model.fit_generator(\n",
        "      train_generator,\n",
        "      steps_per_epoch=train_generator.samples/train_generator.batch_size ,\n",
        "      epochs=5,\n",
        "      validation_data=validation_generator,\n",
        "      validation_steps=validation_generator.samples/validation_generator.batch_size,\n",
        "      verbose=1)\n",
        " \n",
        "# Save the model\n",
        "#model.save('small_last4.h5')"
      ],
      "execution_count": 84,
      "outputs": [
        {
          "output_type": "stream",
          "text": [
            "Epoch 1/2\n",
            "830/830 [==============================] - 603s 727ms/step - loss: 2.8984 - acc: 0.4870 - val_loss: 0.4388 - val_acc: 0.9176\n",
            "Epoch 2/2\n",
            "107/830 [==>...........................] - ETA: 5:02 - loss: 1.4770 - acc: 0.6832"
          ],
          "name": "stdout"
        },
        {
          "output_type": "stream",
          "text": [
            "830/830 [==============================] - 573s 691ms/step - loss: 1.5131 - acc: 0.7035 - val_loss: 0.4728 - val_acc: 0.9253\n"
          ],
          "name": "stdout"
        },
        {
          "output_type": "execute_result",
          "data": {
            "text/plain": [
              "<keras.callbacks.History at 0x7fe4187b3eb8>"
            ]
          },
          "metadata": {
            "tags": []
          },
          "execution_count": 84
        }
      ]
    },
    {
      "metadata": {
        "id": "4_Q1XgPgg89t",
        "colab_type": "code",
        "colab": {
          "autoexec": {
            "startup": false,
            "wait_interval": 0
          },
          "base_uri": "https://localhost:8080/",
          "height": 269
        },
        "outputId": "763c7e9d-ef5f-4bd1-90d5-761c28f1f46e",
        "executionInfo": {
          "status": "ok",
          "timestamp": 1527473827700,
          "user_tz": 180,
          "elapsed": 228133,
          "user": {
            "displayName": "Osvaldo Xavier",
            "photoUrl": "//lh3.googleusercontent.com/-zybdqkQ08DI/AAAAAAAAAAI/AAAAAAAAAwA/gvGq15lUM1o/s50-c-k-no/photo.jpg",
            "userId": "109704789053915160529"
          }
        }
      },
      "cell_type": "code",
      "source": [
        "predictions = model.predict_generator(validation_generator, steps=validation_generator.samples/validation_generator.batch_size,verbose=1)\n",
        "print(predictions)"
      ],
      "execution_count": 90,
      "outputs": [
        {
          "output_type": "stream",
          "text": [
            "603/602 [==============================] - 227s 377ms/step\n",
            "[[9.98823583e-01 8.58963358e-06 4.92080376e-10 ... 4.04251405e-05\n",
            "  1.38833411e-06 6.25276662e-05]\n",
            " [1.00000000e+00 7.06290800e-15 1.91677510e-19 ... 2.17577276e-11\n",
            "  6.36660350e-16 1.69443127e-12]\n",
            " [1.00000000e+00 7.70500132e-16 8.81173082e-20 ... 2.54261781e-13\n",
            "  9.84965513e-17 2.69263832e-13]\n",
            " ...\n",
            " [4.29900160e-09 7.16231455e-07 8.95844843e-10 ... 1.26490916e-08\n",
            "  5.86891924e-11 9.96922433e-01]\n",
            " [3.92388483e-11 1.82194579e-10 1.30656888e-10 ... 6.39406084e-10\n",
            "  6.47775670e-13 9.99997497e-01]\n",
            " [3.93749311e-10 4.09028855e-09 3.36067480e-12 ... 2.42393350e-09\n",
            "  1.14876832e-11 9.89682615e-01]]\n"
          ],
          "name": "stdout"
        }
      ]
    },
    {
      "metadata": {
        "id": "_3JKiTTOia09",
        "colab_type": "code",
        "colab": {
          "autoexec": {
            "startup": false,
            "wait_interval": 0
          },
          "base_uri": "https://localhost:8080/",
          "height": 71
        },
        "outputId": "f55a0efe-9738-4e3f-d9e5-c9669317d0d1",
        "executionInfo": {
          "status": "ok",
          "timestamp": 1527475031443,
          "user_tz": 180,
          "elapsed": 1380,
          "user": {
            "displayName": "Osvaldo Xavier",
            "photoUrl": "//lh3.googleusercontent.com/-zybdqkQ08DI/AAAAAAAAAAI/AAAAAAAAAwA/gvGq15lUM1o/s50-c-k-no/photo.jpg",
            "userId": "109704789053915160529"
          }
        }
      },
      "cell_type": "code",
      "source": [
        "np.shape(predictions)\n",
        "print(np.argmax(prediction[3:]))\n",
        "pred_class = np.argmax(predictions, axis=1)\n",
        "ground_truth = validation_generator.classes\n",
        "print(pred_class, ground_truth)\n",
        "\n",
        "i = 0\n",
        "\n",
        "for i in range(len(pred_class)):\n",
        "  if pred_class[i] != ground_truth[i]:\n",
        "    i+=1\n",
        "print(i)"
      ],
      "execution_count": 136,
      "outputs": [
        {
          "output_type": "stream",
          "text": [
            "77\n",
            "[ 0  0  0 ... 82 82 82] [ 0  0  0 ... 82 82 82]\n",
            "6021\n"
          ],
          "name": "stdout"
        }
      ]
    },
    {
      "metadata": {
        "id": "NXIZKRFxvq-x",
        "colab_type": "code",
        "colab": {
          "autoexec": {
            "startup": false,
            "wait_interval": 0
          },
          "base_uri": "https://localhost:8080/",
          "height": 2422
        },
        "outputId": "b8af8ec1-145b-48a1-d69d-45166f3794d7",
        "executionInfo": {
          "status": "error",
          "timestamp": 1527474620333,
          "user_tz": 180,
          "elapsed": 12580,
          "user": {
            "displayName": "Osvaldo Xavier",
            "photoUrl": "//lh3.googleusercontent.com/-zybdqkQ08DI/AAAAAAAAAAI/AAAAAAAAAwA/gvGq15lUM1o/s50-c-k-no/photo.jpg",
            "userId": "109704789053915160529"
          }
        }
      },
      "cell_type": "code",
      "source": [
        "from PIL import Image\n",
        "\n",
        "number = np.arange(120)\n",
        "\n",
        "for n in number:\n",
        "  if n < 10:\n",
        "    img = Image.open('MO444_dogs/train/80/80_000'+str(n)+'.jpg')\n",
        "  else:\n",
        "    Image.open('MO444_dogs/train/80/80_00'+str(n)+'.jpg')\n",
        "\n",
        "  img = img.resize((image_size[0],image_size[1]))\n",
        "\n",
        "  imshow(img)\n",
        "  \n",
        "\n",
        "  #print(image_size)\n",
        "\n",
        "  arr = np.array(img)\n",
        "\n",
        "  #print(np.shape(arr))\n",
        "\n",
        "  arr = arr.reshape((image_size[0],image_size[1],3))\n",
        "  arr = np.expand_dims(arr, axis=0)\n",
        "  \n",
        "  #print(arr)\n",
        "  \n",
        "  arr = arr/255.0\n",
        "\n",
        "  #print(arr)\n",
        "\n",
        "  prediction = model.predict(arr)[0]\n",
        "  #print(prediction)\n",
        "\n",
        "  bestclass = ''\n",
        "  bestconf = -1\n",
        "  for n in range(83):\n",
        "    if (prediction[n] > bestconf):\n",
        "      bestclass = str(n)\n",
        "      bestconf = prediction[n]\n",
        "  print('I think this digit is a ' + bestclass + ' with ' + str(bestconf * 100) + '% confidence.')"
      ],
      "execution_count": 125,
      "outputs": [
        {
          "output_type": "stream",
          "text": [
            "I think this digit is a 67 with 97.59702682495117% confidence.\n",
            "I think this digit is a 80 with 99.99998807907104% confidence.\n",
            "I think this digit is a 80 with 99.99998807907104% confidence.\n",
            "I think this digit is a 80 with 100.0% confidence.\n",
            "I think this digit is a 80 with 100.0% confidence.\n",
            "I think this digit is a 80 with 100.0% confidence.\n",
            "I think this digit is a 80 with 100.0% confidence.\n",
            "I think this digit is a 72 with 99.99984502792358% confidence.\n",
            "I think this digit is a 80 with 100.0% confidence.\n",
            "I think this digit is a 80 with 100.0% confidence.\n",
            "I think this digit is a 80 with 100.0% confidence.\n",
            "I think this digit is a 80 with 100.0% confidence.\n",
            "I think this digit is a 80 with 100.0% confidence.\n",
            "I think this digit is a 80 with 100.0% confidence.\n",
            "I think this digit is a 80 with 100.0% confidence.\n",
            "I think this digit is a 80 with 100.0% confidence.\n",
            "I think this digit is a 80 with 100.0% confidence.\n",
            "I think this digit is a 80 with 100.0% confidence.\n",
            "I think this digit is a 80 with 100.0% confidence.\n",
            "I think this digit is a 80 with 100.0% confidence.\n",
            "I think this digit is a 80 with 100.0% confidence.\n",
            "I think this digit is a 80 with 100.0% confidence.\n",
            "I think this digit is a 80 with 100.0% confidence.\n",
            "I think this digit is a 80 with 100.0% confidence.\n",
            "I think this digit is a 80 with 100.0% confidence.\n",
            "I think this digit is a 80 with 100.0% confidence.\n",
            "I think this digit is a 80 with 100.0% confidence.\n",
            "I think this digit is a 80 with 100.0% confidence.\n",
            "I think this digit is a 80 with 100.0% confidence.\n",
            "I think this digit is a 80 with 100.0% confidence.\n",
            "I think this digit is a 80 with 100.0% confidence.\n",
            "I think this digit is a 80 with 100.0% confidence.\n",
            "I think this digit is a 80 with 100.0% confidence.\n",
            "I think this digit is a 80 with 100.0% confidence.\n",
            "I think this digit is a 80 with 100.0% confidence.\n",
            "I think this digit is a 80 with 100.0% confidence.\n",
            "I think this digit is a 80 with 100.0% confidence.\n",
            "I think this digit is a 80 with 100.0% confidence.\n",
            "I think this digit is a 80 with 100.0% confidence.\n",
            "I think this digit is a 80 with 100.0% confidence.\n",
            "I think this digit is a 80 with 100.0% confidence.\n",
            "I think this digit is a 80 with 100.0% confidence.\n",
            "I think this digit is a 80 with 100.0% confidence.\n",
            "I think this digit is a 80 with 100.0% confidence.\n",
            "I think this digit is a 80 with 100.0% confidence.\n",
            "I think this digit is a 80 with 100.0% confidence.\n",
            "I think this digit is a 80 with 100.0% confidence.\n",
            "I think this digit is a 80 with 100.0% confidence.\n",
            "I think this digit is a 80 with 100.0% confidence.\n",
            "I think this digit is a 80 with 100.0% confidence.\n",
            "I think this digit is a 80 with 100.0% confidence.\n",
            "I think this digit is a 80 with 100.0% confidence.\n",
            "I think this digit is a 80 with 100.0% confidence.\n",
            "I think this digit is a 80 with 100.0% confidence.\n",
            "I think this digit is a 80 with 100.0% confidence.\n",
            "I think this digit is a 80 with 100.0% confidence.\n",
            "I think this digit is a 80 with 100.0% confidence.\n",
            "I think this digit is a 80 with 100.0% confidence.\n",
            "I think this digit is a 80 with 100.0% confidence.\n",
            "I think this digit is a 80 with 100.0% confidence.\n",
            "I think this digit is a 80 with 100.0% confidence.\n",
            "I think this digit is a 80 with 100.0% confidence.\n",
            "I think this digit is a 80 with 100.0% confidence.\n",
            "I think this digit is a 80 with 100.0% confidence.\n",
            "I think this digit is a 80 with 100.0% confidence.\n",
            "I think this digit is a 80 with 100.0% confidence.\n",
            "I think this digit is a 80 with 100.0% confidence.\n",
            "I think this digit is a 80 with 100.0% confidence.\n",
            "I think this digit is a 80 with 100.0% confidence.\n",
            "I think this digit is a 80 with 100.0% confidence.\n",
            "I think this digit is a 80 with 100.0% confidence.\n",
            "I think this digit is a 80 with 100.0% confidence.\n",
            "I think this digit is a 80 with 100.0% confidence.\n",
            "I think this digit is a 80 with 100.0% confidence.\n",
            "I think this digit is a 80 with 100.0% confidence.\n",
            "I think this digit is a 80 with 100.0% confidence.\n",
            "I think this digit is a 80 with 100.0% confidence.\n",
            "I think this digit is a 80 with 100.0% confidence.\n",
            "I think this digit is a 80 with 100.0% confidence.\n",
            "I think this digit is a 80 with 100.0% confidence.\n",
            "I think this digit is a 80 with 100.0% confidence.\n",
            "I think this digit is a 80 with 100.0% confidence.\n",
            "I think this digit is a 80 with 100.0% confidence.\n",
            "I think this digit is a 80 with 100.0% confidence.\n",
            "I think this digit is a 80 with 100.0% confidence.\n",
            "I think this digit is a 80 with 100.0% confidence.\n"
          ],
          "name": "stdout"
        },
        {
          "output_type": "stream",
          "text": [
            "I think this digit is a 80 with 100.0% confidence.\n",
            "I think this digit is a 80 with 100.0% confidence.\n",
            "I think this digit is a 80 with 100.0% confidence.\n",
            "I think this digit is a 80 with 100.0% confidence.\n",
            "I think this digit is a 80 with 100.0% confidence.\n",
            "I think this digit is a 80 with 100.0% confidence.\n",
            "I think this digit is a 80 with 100.0% confidence.\n",
            "I think this digit is a 80 with 100.0% confidence.\n",
            "I think this digit is a 80 with 100.0% confidence.\n",
            "I think this digit is a 80 with 100.0% confidence.\n",
            "I think this digit is a 80 with 100.0% confidence.\n",
            "I think this digit is a 80 with 100.0% confidence.\n",
            "I think this digit is a 80 with 100.0% confidence.\n",
            "I think this digit is a 80 with 100.0% confidence.\n"
          ],
          "name": "stdout"
        },
        {
          "output_type": "error",
          "ename": "FileNotFoundError",
          "evalue": "ignored",
          "traceback": [
            "\u001b[0;31m---------------------------------------------------------------------------\u001b[0m",
            "\u001b[0;31mFileNotFoundError\u001b[0m                         Traceback (most recent call last)",
            "\u001b[0;32m<ipython-input-125-889842a98d0f>\u001b[0m in \u001b[0;36m<module>\u001b[0;34m()\u001b[0m\n\u001b[1;32m      7\u001b[0m     \u001b[0mimg\u001b[0m \u001b[0;34m=\u001b[0m \u001b[0mImage\u001b[0m\u001b[0;34m.\u001b[0m\u001b[0mopen\u001b[0m\u001b[0;34m(\u001b[0m\u001b[0;34m'MO444_dogs/train/80/80_000'\u001b[0m\u001b[0;34m+\u001b[0m\u001b[0mstr\u001b[0m\u001b[0;34m(\u001b[0m\u001b[0mn\u001b[0m\u001b[0;34m)\u001b[0m\u001b[0;34m+\u001b[0m\u001b[0;34m'.jpg'\u001b[0m\u001b[0;34m)\u001b[0m\u001b[0;34m\u001b[0m\u001b[0m\n\u001b[1;32m      8\u001b[0m   \u001b[0;32melse\u001b[0m\u001b[0;34m:\u001b[0m\u001b[0;34m\u001b[0m\u001b[0m\n\u001b[0;32m----> 9\u001b[0;31m     \u001b[0mImage\u001b[0m\u001b[0;34m.\u001b[0m\u001b[0mopen\u001b[0m\u001b[0;34m(\u001b[0m\u001b[0;34m'MO444_dogs/train/80/80_00'\u001b[0m\u001b[0;34m+\u001b[0m\u001b[0mstr\u001b[0m\u001b[0;34m(\u001b[0m\u001b[0mn\u001b[0m\u001b[0;34m)\u001b[0m\u001b[0;34m+\u001b[0m\u001b[0;34m'.jpg'\u001b[0m\u001b[0;34m)\u001b[0m\u001b[0;34m\u001b[0m\u001b[0m\n\u001b[0m\u001b[1;32m     10\u001b[0m \u001b[0;34m\u001b[0m\u001b[0m\n\u001b[1;32m     11\u001b[0m   \u001b[0mimg\u001b[0m \u001b[0;34m=\u001b[0m \u001b[0mimg\u001b[0m\u001b[0;34m.\u001b[0m\u001b[0mresize\u001b[0m\u001b[0;34m(\u001b[0m\u001b[0;34m(\u001b[0m\u001b[0mimage_size\u001b[0m\u001b[0;34m[\u001b[0m\u001b[0;36m0\u001b[0m\u001b[0;34m]\u001b[0m\u001b[0;34m,\u001b[0m\u001b[0mimage_size\u001b[0m\u001b[0;34m[\u001b[0m\u001b[0;36m1\u001b[0m\u001b[0;34m]\u001b[0m\u001b[0;34m)\u001b[0m\u001b[0;34m)\u001b[0m\u001b[0;34m\u001b[0m\u001b[0m\n",
            "\u001b[0;32m/usr/local/lib/python3.6/dist-packages/PIL/Image.py\u001b[0m in \u001b[0;36mopen\u001b[0;34m(fp, mode)\u001b[0m\n\u001b[1;32m   2310\u001b[0m \u001b[0;34m\u001b[0m\u001b[0m\n\u001b[1;32m   2311\u001b[0m     \u001b[0;32mif\u001b[0m \u001b[0mfilename\u001b[0m\u001b[0;34m:\u001b[0m\u001b[0;34m\u001b[0m\u001b[0m\n\u001b[0;32m-> 2312\u001b[0;31m         \u001b[0mfp\u001b[0m \u001b[0;34m=\u001b[0m \u001b[0mbuiltins\u001b[0m\u001b[0;34m.\u001b[0m\u001b[0mopen\u001b[0m\u001b[0;34m(\u001b[0m\u001b[0mfilename\u001b[0m\u001b[0;34m,\u001b[0m \u001b[0;34m\"rb\"\u001b[0m\u001b[0;34m)\u001b[0m\u001b[0;34m\u001b[0m\u001b[0m\n\u001b[0m\u001b[1;32m   2313\u001b[0m \u001b[0;34m\u001b[0m\u001b[0m\n\u001b[1;32m   2314\u001b[0m     \u001b[0;32mtry\u001b[0m\u001b[0;34m:\u001b[0m\u001b[0;34m\u001b[0m\u001b[0m\n",
            "\u001b[0;31mFileNotFoundError\u001b[0m: [Errno 2] No such file or directory: 'MO444_dogs/train/80/80_00100.jpg'"
          ]
        },
        {
          "output_type": "display_data",
          "data": {
            "image/png": "[encoded data removed]",
            "text/plain": [
              "<matplotlib.figure.Figure at 0x7fe3fcef1a90>"
            ]
          },
          "metadata": {
            "tags": []
          }
        }
      ]
    },
    {
      "metadata": {
        "id": "sYd37YTsQeZw",
        "colab_type": "text"
      },
      "cell_type": "markdown",
      "source": [
        "!pip install keras==2.0.0"
      ]
    },
    {
      "metadata": {
        "id": "64H3_AO2Qh-G",
        "colab_type": "code",
        "colab": {
          "autoexec": {
            "startup": false,
            "wait_interval": 0
          },
          "base_uri": "https://localhost:8080/",
          "height": 451
        },
        "outputId": "472de224-2912-42f2-e8e8-65b891b497fc",
        "executionInfo": {
          "status": "ok",
          "timestamp": 1527386605178,
          "user_tz": 180,
          "elapsed": 3126,
          "user": {
            "displayName": "Osvaldo Xavier",
            "photoUrl": "//lh3.googleusercontent.com/-zybdqkQ08DI/AAAAAAAAAAI/AAAAAAAAAwA/gvGq15lUM1o/s50-c-k-no/photo.jpg",
            "userId": "109704789053915160529"
          }
        }
      },
      "cell_type": "code",
      "source": [
        "!pip install keras==2.0.0"
      ],
      "execution_count": 77,
      "outputs": [
        {
          "output_type": "stream",
          "text": [
            "Collecting keras==2.0.0\n",
            "Requirement already satisfied: tensorflow in /usr/local/lib/python3.6/dist-packages (from keras==2.0.0) (1.8.0)\n",
            "Requirement already satisfied: pyyaml in /usr/local/lib/python3.6/dist-packages (from keras==2.0.0) (3.12)\n",
            "Requirement already satisfied: six in /usr/local/lib/python3.6/dist-packages (from keras==2.0.0) (1.11.0)\n",
            "Requirement already satisfied: numpy>=1.13.3 in /usr/local/lib/python3.6/dist-packages (from tensorflow->keras==2.0.0) (1.14.3)\n",
            "Requirement already satisfied: tensorboard<1.9.0,>=1.8.0 in /usr/local/lib/python3.6/dist-packages (from tensorflow->keras==2.0.0) (1.8.0)\n",
            "Requirement already satisfied: wheel>=0.26 in /usr/local/lib/python3.6/dist-packages (from tensorflow->keras==2.0.0) (0.31.1)\n",
            "Requirement already satisfied: absl-py>=0.1.6 in /usr/local/lib/python3.6/dist-packages (from tensorflow->keras==2.0.0) (0.2.2)\n",
            "Requirement already satisfied: gast>=0.2.0 in /usr/local/lib/python3.6/dist-packages (from tensorflow->keras==2.0.0) (0.2.0)\n",
            "Requirement already satisfied: protobuf>=3.4.0 in /usr/local/lib/python3.6/dist-packages (from tensorflow->keras==2.0.0) (3.5.2.post1)\n",
            "Requirement already satisfied: termcolor>=1.1.0 in /usr/local/lib/python3.6/dist-packages (from tensorflow->keras==2.0.0) (1.1.0)\n",
            "Requirement already satisfied: astor>=0.6.0 in /usr/local/lib/python3.6/dist-packages (from tensorflow->keras==2.0.0) (0.6.2)\n",
            "Requirement already satisfied: grpcio>=1.8.6 in /usr/local/lib/python3.6/dist-packages (from tensorflow->keras==2.0.0) (1.12.0)\n",
            "Requirement already satisfied: bleach==1.5.0 in /usr/local/lib/python3.6/dist-packages (from tensorboard<1.9.0,>=1.8.0->tensorflow->keras==2.0.0) (1.5.0)\n",
            "Requirement already satisfied: html5lib==0.9999999 in /usr/local/lib/python3.6/dist-packages (from tensorboard<1.9.0,>=1.8.0->tensorflow->keras==2.0.0) (0.9999999)\n",
            "Requirement already satisfied: werkzeug>=0.11.10 in /usr/local/lib/python3.6/dist-packages (from tensorboard<1.9.0,>=1.8.0->tensorflow->keras==2.0.0) (0.14.1)\n",
            "Requirement already satisfied: markdown>=2.6.8 in /usr/local/lib/python3.6/dist-packages (from tensorboard<1.9.0,>=1.8.0->tensorflow->keras==2.0.0) (2.6.11)\n",
            "Requirement already satisfied: setuptools in /usr/local/lib/python3.6/dist-packages (from protobuf>=3.4.0->tensorflow->keras==2.0.0) (39.2.0)\n",
            "Installing collected packages: keras\n",
            "  Found existing installation: Keras 2.1.5\n",
            "    Uninstalling Keras-2.1.5:\n",
            "      Successfully uninstalled Keras-2.1.5\n",
            "Successfully installed keras-2.0.0\n"
          ],
          "name": "stdout"
        }
      ]
    },
    {
      "metadata": {
        "id": "t-oSSIJ3_vAu",
        "colab_type": "text"
      },
      "cell_type": "markdown",
      "source": [
        "# Reseting notebook"
      ]
    },
    {
      "metadata": {
        "id": "TamBGtLkmCgl",
        "colab_type": "code",
        "colab": {
          "autoexec": {
            "startup": false,
            "wait_interval": 0
          }
        }
      },
      "cell_type": "code",
      "source": [
        "# Reset notebook\n",
        "!kill -9 -1"
      ],
      "execution_count": 0,
      "outputs": []
    }
  ]
}