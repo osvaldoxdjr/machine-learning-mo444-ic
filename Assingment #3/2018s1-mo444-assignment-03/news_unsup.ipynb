{
 "cells": [
  {
   "cell_type": "code",
   "execution_count": 122,
   "metadata": {},
   "outputs": [
    {
     "ename": "ModuleNotFoundError",
     "evalue": "No module named 'wordcloud'",
     "output_type": "error",
     "traceback": [
      "\u001b[0;31m---------------------------------------------------------------------------\u001b[0m",
      "\u001b[0;31mModuleNotFoundError\u001b[0m                       Traceback (most recent call last)",
      "\u001b[0;32m<ipython-input-122-0253af3e11f4>\u001b[0m in \u001b[0;36m<module>\u001b[0;34m()\u001b[0m\n\u001b[1;32m     25\u001b[0m \u001b[0;32mfrom\u001b[0m \u001b[0msklearn\u001b[0m \u001b[0;32mimport\u001b[0m \u001b[0mmetrics\u001b[0m\u001b[0;34m\u001b[0m\u001b[0m\n\u001b[1;32m     26\u001b[0m \u001b[0;34m\u001b[0m\u001b[0m\n\u001b[0;32m---> 27\u001b[0;31m \u001b[0;32mfrom\u001b[0m \u001b[0mwordcloud\u001b[0m \u001b[0;32mimport\u001b[0m \u001b[0mWordCloud\u001b[0m\u001b[0;34m\u001b[0m\u001b[0m\n\u001b[0m",
      "\u001b[0;31mModuleNotFoundError\u001b[0m: No module named 'wordcloud'"
     ]
    }
   ],
   "source": [
    "# Importing Libraries\n",
    "import pandas as pd\n",
    "import numpy as np\n",
    "\n",
    "import nltk\n",
    "\n",
    "import matplotlib.pyplot as plt\n",
    "\n",
    "from sklearn.feature_extraction.text import TfidfVectorizer, HashingVectorizer, CountVectorizer\n",
    "\n",
    "from gensim.parsing.preprocessing import remove_stopwords, strip_punctuation\n",
    "from gensim.parsing.porter import PorterStemmer\n",
    "\n",
    "from gensim.models import Word2Vec\n",
    "\n",
    "from sklearn.cluster import MiniBatchKMeans, KMeans\n",
    "\n",
    "from sklearn.manifold import TSNE\n",
    "\n",
    "from sklearn.decomposition import PCA\n",
    "from sklearn.decomposition import TruncatedSVD\n",
    "\n",
    "from sklearn.preprocessing import MinMaxScaler\n",
    "\n",
    "from sklearn import metrics"
   ]
  },
  {
   "cell_type": "code",
   "execution_count": 145,
   "metadata": {},
   "outputs": [],
   "source": [
    "def most_freq_words(n_gram, corpus, labels, n_cluster, num_words):\n",
    "    dict_cluster = {'sentences': corpus, 'cluster': labels}\n",
    "    data_cluster = pd.DataFrame(data=dict_cluster)\n",
    "\n",
    "    m_words = []\n",
    "    n = []\n",
    "\n",
    "    for i in range(n_cluster):\n",
    "        cl = data_cluster.loc[data_cluster['cluster'] == i]\n",
    "        cl = np.array(cl['sentences'])\n",
    "        cl_count = CountVectorizer(ngram_range=(n_gram, n_gram), token_pattern=r'\\b\\w+\\b', \n",
    "                                   analyzer= 'word', max_features=num_words)\n",
    "        cl_count.fit_transform(cl)\n",
    "        words = [key for key in cl_count.vocabulary_]\n",
    "        m_words.append(words)\n",
    "        n.append(i)\n",
    "    dict_most_freq = {'cluster':n, 'most frequent words':m_words}\n",
    "    return pd.DataFrame(data=dict_most_freq)"
   ]
  },
  {
   "cell_type": "code",
   "execution_count": 2,
   "metadata": {},
   "outputs": [],
   "source": [
    "# Separating per years in list\n",
    "def sep_years(data, initial_year=2003, final_year=2017):\n",
    "    years = np.arange(initial_year,final_year)\n",
    "    data_years = []\n",
    "\n",
    "    for year in years:\n",
    "        data_years.append(data[data['publish_date']//10000 == year])\n",
    "    return data_years"
   ]
  },
  {
   "cell_type": "code",
   "execution_count": 3,
   "metadata": {},
   "outputs": [],
   "source": [
    "# Process raw text (remove stop words, remove punctuation and get root of words)\n",
    "def process_text(data):\n",
    "    p = PorterStemmer()\n",
    "    data = [p.stem_sentence(strip_punctuation(remove_stopwords(sentence))) for sentence in data]\n",
    "    return data"
   ]
  },
  {
   "cell_type": "code",
   "execution_count": 4,
   "metadata": {},
   "outputs": [],
   "source": [
    "# Reading Data\n",
    "data = pd.read_csv('data/news_headlines.csv')"
   ]
  },
  {
   "cell_type": "code",
   "execution_count": 5,
   "metadata": {},
   "outputs": [
    {
     "data": {
      "text/html": [
       "<div>\n",
       "<style scoped>\n",
       "    .dataframe tbody tr th:only-of-type {\n",
       "        vertical-align: middle;\n",
       "    }\n",
       "\n",
       "    .dataframe tbody tr th {\n",
       "        vertical-align: top;\n",
       "    }\n",
       "\n",
       "    .dataframe thead th {\n",
       "        text-align: right;\n",
       "    }\n",
       "</style>\n",
       "<table border=\"1\" class=\"dataframe\">\n",
       "  <thead>\n",
       "    <tr style=\"text-align: right;\">\n",
       "      <th></th>\n",
       "      <th>publish_date</th>\n",
       "      <th>headline_text</th>\n",
       "    </tr>\n",
       "  </thead>\n",
       "  <tbody>\n",
       "    <tr>\n",
       "      <th>0</th>\n",
       "      <td>20030303</td>\n",
       "      <td>unhooked brakes to blame for taiwan train disa...</td>\n",
       "    </tr>\n",
       "    <tr>\n",
       "      <th>1</th>\n",
       "      <td>20030918</td>\n",
       "      <td>oldest prisoner in tas released citing health</td>\n",
       "    </tr>\n",
       "    <tr>\n",
       "      <th>2</th>\n",
       "      <td>20030913</td>\n",
       "      <td>nine reportedly dead in portuguese plane crash</td>\n",
       "    </tr>\n",
       "    <tr>\n",
       "      <th>3</th>\n",
       "      <td>20031031</td>\n",
       "      <td>nurses welcome medicare rebate plan</td>\n",
       "    </tr>\n",
       "    <tr>\n",
       "      <th>4</th>\n",
       "      <td>20030930</td>\n",
       "      <td>un cuts its iraq staff</td>\n",
       "    </tr>\n",
       "  </tbody>\n",
       "</table>\n",
       "</div>"
      ],
      "text/plain": [
       "   publish_date                                      headline_text\n",
       "0      20030303  unhooked brakes to blame for taiwan train disa...\n",
       "1      20030918      oldest prisoner in tas released citing health\n",
       "2      20030913     nine reportedly dead in portuguese plane crash\n",
       "3      20031031                nurses welcome medicare rebate plan\n",
       "4      20030930                             un cuts its iraq staff"
      ]
     },
     "execution_count": 5,
     "metadata": {},
     "output_type": "execute_result"
    }
   ],
   "source": [
    "# Showing head of data frame\n",
    "data.head()"
   ]
  },
  {
   "cell_type": "code",
   "execution_count": 6,
   "metadata": {},
   "outputs": [],
   "source": [
    "# Dropping duplicated -> headline_text\n",
    "\n",
    "data = data.drop_duplicates(['headline_text'])"
   ]
  },
  {
   "cell_type": "code",
   "execution_count": 7,
   "metadata": {},
   "outputs": [],
   "source": [
    "corpus = data['headline_text']\n",
    "\n",
    "corpus = process_text(corpus)"
   ]
  },
  {
   "cell_type": "code",
   "execution_count": 8,
   "metadata": {},
   "outputs": [
    {
     "name": "stdout",
     "output_type": "stream",
     "text": [
      "19\n"
     ]
    }
   ],
   "source": [
    "t = 0\n",
    "while '' in corpus:\n",
    "    t += 1\n",
    "    corpus.remove('')\n",
    "\n",
    "print(t)"
   ]
  },
  {
   "cell_type": "code",
   "execution_count": 9,
   "metadata": {},
   "outputs": [
    {
     "name": "stdout",
     "output_type": "stream",
     "text": [
      "2gram ['bi grams', 'grams are', 'are cool']\n",
      "3gram ['bi grams are', 'grams are cool']\n",
      "4cgram ['bi-g', 'i-gr', '-gra', 'gram', 'rams', 'ams ', 'ms a', 's ar', ' are', 'are ', 're c', 'e co', ' coo', 'cool', 'ool!']\n",
      "(643696, 1000)\n",
      "(643696, 1000)\n",
      "(643696, 1000)\n"
     ]
    }
   ],
   "source": [
    "# N-Gram Feature Extractor\n",
    "\n",
    "d_max = .3\n",
    "d_min = 1\n",
    "\n",
    "vect_2gram = TfidfVectorizer(ngram_range=(2, 2), token_pattern=r'\\b\\w+\\b',\n",
    "                             max_df=d_max, min_df=d_min, analyzer= 'word', max_features=1000)\n",
    "vect_3gram = TfidfVectorizer(ngram_range=(3, 3), token_pattern=r'\\b\\w+\\b',\n",
    "                             max_df=d_max, min_df=d_min, analyzer= 'word', max_features=1000)\n",
    "vect_4cgram = TfidfVectorizer(ngram_range=(4, 4), token_pattern=r'\\b\\w+\\b',\n",
    "                              max_df=d_max, min_df=d_min, analyzer= 'char', max_features=1000)\n",
    "\n",
    "X_2 = vect_2gram.fit_transform(corpus)\n",
    "X_3 = vect_3gram.fit_transform(corpus)\n",
    "X_4 = vect_4cgram.fit_transform(corpus)\n",
    "\n",
    "X_2_analyze = vect_2gram.build_analyzer()\n",
    "X_3_analyze = vect_3gram.build_analyzer()\n",
    "X_4_analyze = vect_4cgram.build_analyzer()\n",
    "\n",
    "print('2gram', X_2_analyze('Bi-grams are cool!'))\n",
    "print('3gram', X_3_analyze('Bi-grams are cool!'))\n",
    "print('4cgram', X_4_analyze('Bi-grams are cool!'))\n",
    "\n",
    "print(np.shape(X_2))\n",
    "print(np.shape(X_3))\n",
    "print(np.shape(X_4))"
   ]
  },
  {
   "cell_type": "code",
   "execution_count": 9,
   "metadata": {},
   "outputs": [],
   "source": [
    "corpus_token = [[word for word in corpu.split()] for corpu in corpus]\n",
    "\n",
    "model = Word2Vec(corpus_token, min_count=1, size = 200)"
   ]
  },
  {
   "cell_type": "code",
   "execution_count": 10,
   "metadata": {},
   "outputs": [
    {
     "name": "stdout",
     "output_type": "stream",
     "text": [
      "(643696, 200)\n"
     ]
    }
   ],
   "source": [
    "X = []\n",
    "X_sentence = []\n",
    "\n",
    "i = 0                \n",
    "                \n",
    "for sentence_token in corpus_token:\n",
    "    print(i, end ='\\r')\n",
    "    i += 1\n",
    "    for token in sentence_token:\n",
    "        X_sentence.append(model.wv[token])\n",
    "    feat_mean = np.average(X_sentence, axis=0)\n",
    "    X.append(feat_mean/np.max(feat_mean))\n",
    "    X_sentence = []\n",
    "\n",
    "print(np.shape(X))"
   ]
  },
  {
   "cell_type": "code",
   "execution_count": 11,
   "metadata": {},
   "outputs": [
    {
     "name": "stdout",
     "output_type": "stream",
     "text": [
      "30\r"
     ]
    },
    {
     "data": {
      "image/png": "[encoded data removed]",
      "text/plain": [
       "<matplotlib.figure.Figure at 0x7fa92acb36a0>"
      ]
     },
     "metadata": {},
     "output_type": "display_data"
    }
   ],
   "source": [
    "n_clusters = 30\n",
    "lst_clust = []\n",
    "cost_function = []\n",
    "\n",
    "\n",
    "#reduced_data = TruncatedSVD(n_components=100).fit_transform(X_4)\n",
    "#print(np.shape(reduced_data))\n",
    "\n",
    "#reduced_data = Normalizer(copy=False).fit_transform(reduced_data)\n",
    "\n",
    "\n",
    "for i in range(1, n_clusters+1):\n",
    "    print(i ,end='\\r')\n",
    "    km = MiniBatchKMeans(n_clusters=i, init='k-means++',n_init=1, max_iter=100)\n",
    "    km.fit(X)\n",
    "    lst_clust.append(i)\n",
    "    cost_function.append(km.inertia_)\n",
    "\n",
    "# Create plots with pre-defined labels.\n",
    "fig, ax = plt.subplots()\n",
    "ax.plot(lst_clust, cost_function, 'k--', label='Gradient Discent')\n",
    "\n",
    "legend = ax.legend(loc='upper center', shadow=True, fontsize='x-large')\n",
    "\n",
    "# Put a nicer background color on the legend.\n",
    "legend.get_frame().set_facecolor('#00FFCC')\n",
    "\n",
    "plt.show()"
   ]
  },
  {
   "cell_type": "code",
   "execution_count": 22,
   "metadata": {},
   "outputs": [
    {
     "data": {
      "text/plain": [
       "MiniBatchKMeans(batch_size=100, compute_labels=True, init='k-means++',\n",
       "        init_size=None, max_iter=100, max_no_improvement=10, n_clusters=8,\n",
       "        n_init=1, random_state=None, reassignment_ratio=0.01, tol=0.0,\n",
       "        verbose=0)"
      ]
     },
     "execution_count": 22,
     "metadata": {},
     "output_type": "execute_result"
    }
   ],
   "source": [
    "km = MiniBatchKMeans(n_clusters=8, init='k-means++',n_init=1, max_iter=100)\n",
    "km.fit(X)"
   ]
  },
  {
   "cell_type": "code",
   "execution_count": 149,
   "metadata": {},
   "outputs": [
    {
     "name": "stdout",
     "output_type": "stream",
     "text": [
      "(57578,)\n",
      "{'woman': 19, 'jail': 12, 'case': 4, 'trial': 18, 'accus': 0, 'court': 7, 'assault': 3, 'sentenc': 16, 'face': 10, 'murder': 14, 'charg': 5, 'man': 13, 'drug': 9, 'guilti': 11, 'appeal': 2, 'death': 8, 'polic': 15, 'child': 6, 'alleg': 1, 'sex': 17}\n",
      "woman\n",
      "jail\n",
      "case\n",
      "trial\n",
      "accus\n",
      "court\n",
      "assault\n",
      "sentenc\n",
      "face\n",
      "murder\n",
      "charg\n",
      "man\n",
      "drug\n",
      "guilti\n",
      "appeal\n",
      "death\n",
      "polic\n",
      "child\n",
      "alleg\n",
      "sex\n",
      "['woman', 'jail', 'case', 'trial', 'accus', 'court', 'assault', 'sentenc', 'face', 'murder', 'charg', 'man', 'drug', 'guilti', 'appeal', 'death', 'polic', 'child', 'alleg', 'sex']\n",
      "   cluster                                most frequent words\n",
      "0        0  [jail, trial, accus, court, face, murder, char...\n",
      "1        1  [water, boost, council, fund, resid, new, nsw,...\n",
      "2        2  [health, plan, sai, minist, govt, urg, mp, new...\n",
      "3        3  [dead, crash, man, car, polic, kill, attack, m...\n",
      "4        4  [new, school, home, year, dai, australia, coun...\n",
      "5        5  [coach, cup, final, england, tiger, injuri, wi...\n",
      "6        6  [world, cup, set, australia, lead, open, final...\n",
      "7        7  [sai, market, iraq, china, warn, australia, de...\n"
     ]
    }
   ],
   "source": [
    "dict_cluster = {'sentences': corpus, 'cluster': km.labels_}\n",
    "data_cluster = pd.DataFrame(data=dict_cluster)\n",
    "\n",
    "cl = data_cluster.loc[data_cluster['cluster'] == 0]\n",
    "\n",
    "cl = np.array(cl['sentences'])\n",
    "\n",
    "print(np.shape(cl))\n",
    "\n",
    "cl_count = CountVectorizer(ngram_range=(1, 1), token_pattern=r'\\b\\w+\\b', analyzer= 'word', max_features=20)\n",
    "\n",
    "document = cl_count.fit_transform(cl)\n",
    "\n",
    "print(cl_count.vocabulary_)\n",
    "\n",
    "for key in cl_count.vocabulary_:\n",
    "    print(key)\n",
    "    \n",
    "a = [key for key in cl_count.vocabulary_]\n",
    "print(a)  \n",
    "\n",
    "print(most_freq_words(n_gram=1,corpus=corpus,labels=km.labels_,n_cluster=8, num_words=10))\n"
   ]
  },
  {
   "cell_type": "code",
   "execution_count": 33,
   "metadata": {},
   "outputs": [
    {
     "name": "stdout",
     "output_type": "stream",
     "text": [
      "[1 1 1 1 1 1 1 1 1 1 1 1 1 1 1 1 1 1 1 1 1 1 1 1 1 1 1 9 1 1 1 1 1 1 4 1 1\n",
      " 1 1 1 1 1 1 1 1 1 1 1 1 1]\n",
      "    publish_date                                      headline_text\n",
      "0       20030303  unhooked brakes to blame for taiwan train disa...\n",
      "1       20030918      oldest prisoner in tas released citing health\n",
      "2       20030913     nine reportedly dead in portuguese plane crash\n",
      "3       20031031                nurses welcome medicare rebate plan\n",
      "4       20030930                             un cuts its iraq staff\n",
      "5       20030601      tougher water restrictions loom after dry may\n",
      "6       20030715     illegal fishing review to hold public meetings\n",
      "7       20030723          minardi sign italian bruni as test driver\n",
      "8       20030910                       man breaks leg in cliff fall\n",
      "9       20031125                  bush signs off on troops pay rise\n",
      "10      20030530       cwealth not responsible for regional airport\n",
      "11      20031114      indonesia knew about melville boat tow howard\n",
      "12      20031005       yuvraj into india squad for new zealand test\n",
      "13      20030502    blair survives backlash at local regional polls\n",
      "14      20030505                beijing closes access to reservoirs\n",
      "15      20031014  business group rejects social responsibility s...\n",
      "16      20030828        qld unswayed by act backdown on health deal\n",
      "17      20031101           woman jailed for trying to kill daughter\n",
      "18      20030430   south africa launch bid to host soccer world cup\n",
      "19      20030513                     catholic school to close doors\n"
     ]
    }
   ],
   "source": [
    "# Tests\n",
    "print(km.predict(X_2[:50,:]))\n",
    "print(data[:20])"
   ]
  },
  {
   "cell_type": "code",
   "execution_count": null,
   "metadata": {},
   "outputs": [],
   "source": []
  }
 ],
 "metadata": {
  "kernelspec": {
   "display_name": "Python 3",
   "language": "python",
   "name": "python3"
  },
  "language_info": {
   "codemirror_mode": {
    "name": "ipython",
    "version": 3
   },
   "file_extension": ".py",
   "mimetype": "text/x-python",
   "name": "python",
   "nbconvert_exporter": "python",
   "pygments_lexer": "ipython3",
   "version": "3.6.4"
  }
 },
 "nbformat": 4,
 "nbformat_minor": 2
}
