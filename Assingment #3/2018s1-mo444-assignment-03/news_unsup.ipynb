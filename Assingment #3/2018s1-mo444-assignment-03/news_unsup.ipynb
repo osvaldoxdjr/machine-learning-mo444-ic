{
 "cells": [
  {
   "cell_type": "code",
   "execution_count": 2,
   "metadata": {},
   "outputs": [
    {
     "ename": "ModuleNotFoundError",
     "evalue": "No module named 'gensim'",
     "output_type": "error",
     "traceback": [
      "\u001b[0;31m---------------------------------------------------------------------------\u001b[0m",
      "\u001b[0;31mModuleNotFoundError\u001b[0m                       Traceback (most recent call last)",
      "\u001b[0;32m<ipython-input-2-5c91b678cac4>\u001b[0m in \u001b[0;36m<module>\u001b[0;34m()\u001b[0m\n\u001b[1;32m      9\u001b[0m \u001b[0;32mfrom\u001b[0m \u001b[0msklearn\u001b[0m\u001b[0;34m.\u001b[0m\u001b[0mfeature_extraction\u001b[0m\u001b[0;34m.\u001b[0m\u001b[0mtext\u001b[0m \u001b[0;32mimport\u001b[0m \u001b[0mTfidfVectorizer\u001b[0m\u001b[0;34m,\u001b[0m \u001b[0mHashingVectorizer\u001b[0m\u001b[0;34m,\u001b[0m \u001b[0mCountVectorizer\u001b[0m\u001b[0;34m\u001b[0m\u001b[0m\n\u001b[1;32m     10\u001b[0m \u001b[0;34m\u001b[0m\u001b[0m\n\u001b[0;32m---> 11\u001b[0;31m \u001b[0;32mfrom\u001b[0m \u001b[0mgensim\u001b[0m\u001b[0;34m.\u001b[0m\u001b[0mparsing\u001b[0m\u001b[0;34m.\u001b[0m\u001b[0mpreprocessing\u001b[0m \u001b[0;32mimport\u001b[0m \u001b[0mremove_stopwords\u001b[0m\u001b[0;34m,\u001b[0m \u001b[0mstrip_punctuation\u001b[0m\u001b[0;34m\u001b[0m\u001b[0m\n\u001b[0m\u001b[1;32m     12\u001b[0m \u001b[0;32mfrom\u001b[0m \u001b[0mgensim\u001b[0m\u001b[0;34m.\u001b[0m\u001b[0mparsing\u001b[0m\u001b[0;34m.\u001b[0m\u001b[0mporter\u001b[0m \u001b[0;32mimport\u001b[0m \u001b[0mPorterStemmer\u001b[0m\u001b[0;34m\u001b[0m\u001b[0m\n\u001b[1;32m     13\u001b[0m \u001b[0;34m\u001b[0m\u001b[0m\n",
      "\u001b[0;31mModuleNotFoundError\u001b[0m: No module named 'gensim'"
     ]
    }
   ],
   "source": [
    "# Importing Libraries\n",
    "import pandas as pd\n",
    "import numpy as np\n",
    "\n",
    "import nltk\n",
    "\n",
    "import matplotlib.pyplot as plt\n",
    "\n",
    "from sklearn.feature_extraction.text import TfidfVectorizer, HashingVectorizer, CountVectorizer\n",
    "\n",
    "from gensim.parsing.preprocessing import remove_stopwords, strip_punctuation\n",
    "from gensim.parsing.porter import PorterStemmer\n",
    "\n",
    "from gensim.models import Word2Vec\n",
    "\n",
    "from sklearn.cluster import MiniBatchKMeans, KMeans\n",
    "\n",
    "from sklearn.manifold import TSNE\n",
    "\n",
    "from sklearn.decomposition import PCA\n",
    "from sklearn.decomposition import TruncatedSVD\n",
    "\n",
    "from sklearn.preprocessing import MinMaxScaler\n",
    "\n",
    "from sklearn import metrics"
   ]
  },
  {
   "cell_type": "code",
   "execution_count": 3,
   "metadata": {},
   "outputs": [],
   "source": [
    "# Cluster variance\n",
    "def var_cluster(X, labels, n_cluster):\n",
    "    dict_cluster = {'variance': X, 'cluster': labels}\n",
    "    data_cluster = pd.DataFrame(data=dict_cluster)\n",
    "\n",
    "    cluster_variance = []\n",
    "    n = []\n",
    "\n",
    "    for i in range(n_cluster):\n",
    "        cl = data_cluster.loc[data_cluster['cluster'] == i]\n",
    "        cl = np.array(cl['variance'])\n",
    "        cl_var = np.var(cl, axis=0).mean()\n",
    "        cluster_variance.append(cl_var)\n",
    "        n.append(i)\n",
    "    dict_var = {'cluster':n, 'variance':cluster_variance}\n",
    "    return pd.DataFrame(data=dict_var)"
   ]
  },
  {
   "cell_type": "code",
   "execution_count": 4,
   "metadata": {},
   "outputs": [],
   "source": [
    "# Remove empty headlines\n",
    "def remove_empty(corpus):\n",
    "    while '' in corpus:\n",
    "        corpus.remove('')\n",
    "    return corpus"
   ]
  },
  {
   "cell_type": "code",
   "execution_count": 5,
   "metadata": {},
   "outputs": [],
   "source": [
    "# Get most frequent words of n-grams\n",
    "def most_freq_words(n_gram, corpus, labels, n_cluster, num_words):\n",
    "    dict_cluster = {'sentences': corpus, 'cluster': labels}\n",
    "    data_cluster = pd.DataFrame(data=dict_cluster)\n",
    "\n",
    "    m_words = []\n",
    "    n = []\n",
    "\n",
    "    for i in range(n_cluster):\n",
    "        cl = data_cluster.loc[data_cluster['cluster'] == i]\n",
    "        cl = np.array(cl['sentences'])\n",
    "        cl_count = CountVectorizer(ngram_range=(n_gram, n_gram), token_pattern=r'\\b\\w+\\b', \n",
    "                                   analyzer= 'word', max_features=num_words)\n",
    "        cl_count.fit_transform(cl)\n",
    "        words = [key for key in cl_count.vocabulary_]\n",
    "        m_words.append(words)\n",
    "        n.append(i)\n",
    "    dict_most_freq = {'cluster':n, 'most frequent words':m_words}\n",
    "    return pd.DataFrame(data=dict_most_freq)"
   ]
  },
  {
   "cell_type": "code",
   "execution_count": 6,
   "metadata": {},
   "outputs": [],
   "source": [
    "# Separating per years in list\n",
    "def sep_years(data, initial_year=2003, final_year=2017):\n",
    "    years = np.arange(initial_year,final_year+1)\n",
    "    data_years = [data[data['publish_date']//10000 == year] for year in years]\n",
    "\n",
    "    return data_years"
   ]
  },
  {
   "cell_type": "code",
   "execution_count": 7,
   "metadata": {},
   "outputs": [],
   "source": [
    "# Process raw text (remove stop words, remove punctuation and get root of words)\n",
    "def process_text(data):\n",
    "    p = PorterStemmer()\n",
    "    data = [p.stem_sentence(strip_punctuation(remove_stopwords(sentence))) for sentence in data]\n",
    "    return data"
   ]
  },
  {
   "cell_type": "code",
   "execution_count": 8,
   "metadata": {},
   "outputs": [],
   "source": [
    "# Reading Data\n",
    "data = pd.read_csv('Data/news_headlines.csv')"
   ]
  },
  {
   "cell_type": "code",
   "execution_count": 140,
   "metadata": {},
   "outputs": [
    {
     "data": {
      "text/html": [
       "<div>\n",
       "<style scoped>\n",
       "    .dataframe tbody tr th:only-of-type {\n",
       "        vertical-align: middle;\n",
       "    }\n",
       "\n",
       "    .dataframe tbody tr th {\n",
       "        vertical-align: top;\n",
       "    }\n",
       "\n",
       "    .dataframe thead th {\n",
       "        text-align: right;\n",
       "    }\n",
       "</style>\n",
       "<table border=\"1\" class=\"dataframe\">\n",
       "  <thead>\n",
       "    <tr style=\"text-align: right;\">\n",
       "      <th></th>\n",
       "      <th>publish_date</th>\n",
       "      <th>headline_text</th>\n",
       "    </tr>\n",
       "  </thead>\n",
       "  <tbody>\n",
       "    <tr>\n",
       "      <th>0</th>\n",
       "      <td>20030303</td>\n",
       "      <td>unhooked brakes to blame for taiwan train disa...</td>\n",
       "    </tr>\n",
       "    <tr>\n",
       "      <th>1</th>\n",
       "      <td>20030918</td>\n",
       "      <td>oldest prisoner in tas released citing health</td>\n",
       "    </tr>\n",
       "    <tr>\n",
       "      <th>2</th>\n",
       "      <td>20030913</td>\n",
       "      <td>nine reportedly dead in portuguese plane crash</td>\n",
       "    </tr>\n",
       "    <tr>\n",
       "      <th>3</th>\n",
       "      <td>20031031</td>\n",
       "      <td>nurses welcome medicare rebate plan</td>\n",
       "    </tr>\n",
       "    <tr>\n",
       "      <th>4</th>\n",
       "      <td>20030930</td>\n",
       "      <td>un cuts its iraq staff</td>\n",
       "    </tr>\n",
       "  </tbody>\n",
       "</table>\n",
       "</div>"
      ],
      "text/plain": [
       "   publish_date                                      headline_text\n",
       "0      20030303  unhooked brakes to blame for taiwan train disa...\n",
       "1      20030918      oldest prisoner in tas released citing health\n",
       "2      20030913     nine reportedly dead in portuguese plane crash\n",
       "3      20031031                nurses welcome medicare rebate plan\n",
       "4      20030930                             un cuts its iraq staff"
      ]
     },
     "execution_count": 140,
     "metadata": {},
     "output_type": "execute_result"
    }
   ],
   "source": [
    "# Showing head of data frame\n",
    "data.head()"
   ]
  },
  {
   "cell_type": "code",
   "execution_count": 141,
   "metadata": {},
   "outputs": [],
   "source": [
    "# Dropping duplicated -> headline_text\n",
    "data = data.drop_duplicates(['headline_text'])"
   ]
  },
  {
   "cell_type": "code",
   "execution_count": 142,
   "metadata": {},
   "outputs": [],
   "source": [
    "data = sep_years(data,2009,2011)[2]\n",
    "\n",
    "corpus = data['headline_text']\n",
    "corpus = process_text(corpus)\n",
    "corpus = remove_empty(corpus)"
   ]
  },
  {
   "cell_type": "code",
   "execution_count": 10,
   "metadata": {},
   "outputs": [
    {
     "name": "stdout",
     "output_type": "stream",
     "text": [
      "4cgram ['bi-g', 'i-gr', '-gra', 'gram', 'rams', 'ams ', 'ms a', 's ar', ' are', 'are ', 're c', 'e co', ' coo', 'cool', 'ool!']\n",
      "(643696, 300)\n"
     ]
    }
   ],
   "source": [
    "# N-Gram Feature Extractor\n",
    "\n",
    "d_max = .3\n",
    "d_min = 1\n",
    "\n",
    "vect_2gram = TfidfVectorizer(ngram_range=(2, 2), token_pattern=r'\\b\\w+\\b',\n",
    "                             max_df=d_max, min_df=d_min, analyzer= 'word', max_features=300)\n",
    "vect_3gram = TfidfVectorizer(ngram_range=(3, 3), token_pattern=r'\\b\\w+\\b',\n",
    "                             max_df=d_max, min_df=d_min, analyzer= 'word', max_features=300)\n",
    "vect_4cgram = TfidfVectorizer(ngram_range=(4, 4), token_pattern=r'\\b\\w+\\b',\n",
    "                              max_df=d_max, min_df=d_min, analyzer= 'char', max_features=300)\n",
    "\n",
    "#X_2 = vect_2gram.fit_transform(corpus)\n",
    "#X_3 = vect_3gram.fit_transform(corpus)\n",
    "X_4 = vect_4cgram.fit_transform(corpus)\n",
    "\n",
    "#X_2_analyze = vect_2gram.build_analyzer()\n",
    "#X_3_analyze = vect_3gram.build_analyzer()\n",
    "X_4_analyze = vect_4cgram.build_analyzer()\n",
    "\n",
    "#print('2gram', X_2_analyze('Bi-grams are cool!'))\n",
    "#print('3gram', X_3_analyze('Bi-grams are cool!'))\n",
    "print('4cgram', X_4_analyze('Bi-grams are cool!'))\n",
    "\n",
    "#print(np.shape(X_2))\n",
    "#print(np.shape(X_3))\n",
    "print(np.shape(X_4))"
   ]
  },
  {
   "cell_type": "code",
   "execution_count": 143,
   "metadata": {},
   "outputs": [],
   "source": [
    "corpus_token = [[word for word in corpu.split()] for corpu in corpus]\n",
    "\n",
    "model = Word2Vec(corpus_token, min_count=1, size = 200)"
   ]
  },
  {
   "cell_type": "code",
   "execution_count": 144,
   "metadata": {},
   "outputs": [
    {
     "name": "stdout",
     "output_type": "stream",
     "text": [
      "44414\r"
     ]
    }
   ],
   "source": [
    "X = []\n",
    "X_sentence = []\n",
    "\n",
    "i = 0                \n",
    "                \n",
    "for sentence_token in corpus_token:\n",
    "    print(i, end ='\\r')\n",
    "    i += 1\n",
    "    for token in sentence_token:\n",
    "        X_sentence.append(model.wv[token])\n",
    "    feat_mean = np.average(X_sentence, axis=0)\n",
    "    X.append(feat_mean/np.max(feat_mean))\n",
    "    X_sentence = []"
   ]
  },
  {
   "cell_type": "code",
   "execution_count": 11,
   "metadata": {},
   "outputs": [
    {
     "name": "stdout",
     "output_type": "stream",
     "text": [
      "test\n"
     ]
    },
    {
     "data": {
      "text/plain": [
       "<matplotlib.figure.Figure at 0x7f61af972c18>"
      ]
     },
     "metadata": {},
     "output_type": "display_data"
    },
    {
     "data": {
      "image/png": "[encoded data removed]",
      "text/plain": [
       "<matplotlib.figure.Figure at 0x7f61adfd2828>"
      ]
     },
     "metadata": {},
     "output_type": "display_data"
    }
   ],
   "source": [
    "n_clusters = 30\n",
    "lst_clust = []\n",
    "cost_function = []\n",
    "\n",
    "X = [X_4]\n",
    "\n",
    "lst_clust = np.arange(1,n_clusters+1)\n",
    "y_final = []\n",
    "\n",
    "trace = ['k-.']\n",
    "chart_name = ['4-char-gram']\n",
    "\n",
    "for j in range(len(X)):\n",
    "    for i in range(1, n_clusters+1):\n",
    "        print(i ,end='\\r')\n",
    "        km = KMeans(n_clusters=i, init='k-means++', max_iter=100)\n",
    "        km.fit(X[j])\n",
    "        cost_function.append(km.inertia_)\n",
    "    y_final.append(cost_function)\n",
    "    cost_function = []\n",
    "    print('test')\n",
    "    plt.figure()\n",
    "    fig, ax = plt.subplots()\n",
    "    ax.plot(lst_clust, y_final[0], trace[j], label=chart_name[j])\n",
    "    ax.yaxis.get_major_formatter().set_powerlimits((0, 1))\n",
    "\n",
    "    plt.ylabel('Cost Function')\n",
    "    plt.xlabel('Number of Clusters')\n",
    "    plt.savefig(chart_name[j])"
   ]
  },
  {
   "cell_type": "code",
   "execution_count": 78,
   "metadata": {},
   "outputs": [
    {
     "name": "stdout",
     "output_type": "stream",
     "text": [
      "30\r"
     ]
    }
   ],
   "source": [
    "n_clusters  = 30\n",
    "lst_clust = []\n",
    "cost_function = []\n",
    "metric = []\n",
    "\n",
    "\n",
    "\n",
    "for i in range(2, n_clusters+1):\n",
    "    print(i ,end='\\r')\n",
    "    km = MiniBatchKMeans(n_clusters=i, init='k-means++',n_init=1, max_iter=100)\n",
    "    km.fit(X)\n",
    "    metric.append(metrics.silhouette_score(X, km.labels_,sample_size=3000))\n",
    "    lst_clust.append(i)\n",
    "    cost_function.append(km.inertia_)"
   ]
  },
  {
   "cell_type": "code",
   "execution_count": 46,
   "metadata": {},
   "outputs": [],
   "source": [
    "a_2009 = cost_function\n",
    "m_2009 = metric"
   ]
  },
  {
   "cell_type": "code",
   "execution_count": 54,
   "metadata": {},
   "outputs": [],
   "source": [
    "a_2010 = cost_function\n",
    "m_2010 = metric"
   ]
  },
  {
   "cell_type": "code",
   "execution_count": 62,
   "metadata": {},
   "outputs": [],
   "source": [
    "a_2011 = cost_function\n",
    "m_2011 = metric"
   ]
  },
  {
   "cell_type": "code",
   "execution_count": 79,
   "metadata": {},
   "outputs": [
    {
     "name": "stdout",
     "output_type": "stream",
     "text": [
      "(29,) (29,)\n"
     ]
    },
    {
     "data": {
      "image/png": "[encoded data removed]",
      "text/plain": [
       "<matplotlib.figure.Figure at 0x7f72d7c180f0>"
      ]
     },
     "metadata": {},
     "output_type": "display_data"
    }
   ],
   "source": [
    "print(np.shape(lst_clust), np.shape(m_2009))\n",
    "\n",
    "fig, ax = plt.subplots()\n",
    "ax.plot(lst_clust, m_2009, 'k-')\n",
    "#ax.plot(lst_clust, m_2010, 'k--', label='Year 2010')\n",
    "#ax.plot(lst_clust, m_2011, 'k-.', label='Year 2011')\n",
    "\n",
    "#legend = ax.legend(loc='upper center', shadow=True, fontsize='x-large')\n",
    "\n",
    "#ax.yaxis.get_major_formatter().set_powerlimits((0, 1))\n",
    "\n",
    "plt.ylabel('Silhouette Score')\n",
    "plt.xlabel('Number of Clusters')\n",
    "plt.savefig('wordembed')"
   ]
  },
  {
   "cell_type": "code",
   "execution_count": 145,
   "metadata": {},
   "outputs": [
    {
     "data": {
      "text/plain": [
       "MiniBatchKMeans(batch_size=100, compute_labels=True, init='k-means++',\n",
       "        init_size=None, max_iter=100, max_no_improvement=10, n_clusters=7,\n",
       "        n_init=10, random_state=None, reassignment_ratio=0.01, tol=0.0,\n",
       "        verbose=0)"
      ]
     },
     "execution_count": 145,
     "metadata": {},
     "output_type": "execute_result"
    }
   ],
   "source": [
    "clust_otimo = 7\n",
    "\n",
    "km = MiniBatchKMeans(n_clusters=clust_otimo, init='k-means++',n_init=10, max_iter=100)\n",
    "km.fit(X)"
   ]
  },
  {
   "cell_type": "code",
   "execution_count": 149,
   "metadata": {},
   "outputs": [],
   "source": [
    "t = most_freq_words(n_gram=3,corpus=corpus,labels=km.labels_,n_cluster=clust_otimo, num_words=5)\n",
    "\n",
    "with open('most_freq_word2vec_2011_3gram', 'w') as file:\n",
    "    file.write(str(np.array(t)))"
   ]
  },
  {
   "cell_type": "code",
   "execution_count": 147,
   "metadata": {},
   "outputs": [],
   "source": [
    "# Variance of cluster\n",
    "b= var_cluster(X, km.labels_, clust_otimo)\n",
    "\n",
    "with open('var_2011', 'w') as file:\n",
    "    file.write(str(b))"
   ]
  }
 ],
 "metadata": {
  "kernelspec": {
   "display_name": "Python 3",
   "language": "python",
   "name": "python3"
  },
  "language_info": {
   "codemirror_mode": {
    "name": "ipython",
    "version": 3
   },
   "file_extension": ".py",
   "mimetype": "text/x-python",
   "name": "python",
   "nbconvert_exporter": "python",
   "pygments_lexer": "ipython3",
   "version": "3.6.5"
  }
 },
 "nbformat": 4,
 "nbformat_minor": 2
}
